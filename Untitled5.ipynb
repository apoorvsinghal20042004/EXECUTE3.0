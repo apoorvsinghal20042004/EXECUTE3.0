{
  "nbformat": 4,
  "nbformat_minor": 0,
  "metadata": {
    "colab": {
      "provenance": [],
      "include_colab_link": true
    },
    "kernelspec": {
      "name": "python3",
      "display_name": "Python 3"
    },
    "language_info": {
      "name": "python"
    }
  },
  "cells": [
    {
      "cell_type": "markdown",
      "metadata": {
        "id": "view-in-github",
        "colab_type": "text"
      },
      "source": [
        "<a href=\"https://colab.research.google.com/github/apoorvsinghal20042004/EXECUTE3.0/blob/main/Untitled5.ipynb\" target=\"_parent\"><img src=\"https://colab.research.google.com/assets/colab-badge.svg\" alt=\"Open In Colab\"/></a>"
      ]
    },
    {
      "cell_type": "code",
      "execution_count": null,
      "metadata": {
        "id": "POwMti7mJ2i9"
      },
      "outputs": [],
      "source": [
        "# Import necessary libraries\n",
        "import pandas as pd\n",
        "import numpy as np\n",
        "\n",
        "# For encoding categorical variables\n",
        "from sklearn.preprocessing import LabelEncoder, OneHotEncoder\n",
        "\n",
        "# For datetime operations\n",
        "import datetime\n",
        "\n",
        "# Display settings for better readability\n",
        "pd.set_option('display.max_columns', None)\n"
      ]
    },
    {
      "cell_type": "code",
      "source": [
        "# Load the dataset\n",
        "df = pd.read_csv('sales.csv')\n",
        "\n",
        "# Display the first few rows\n",
        "df.head()\n"
      ],
      "metadata": {
        "colab": {
          "base_uri": "https://localhost:8080/",
          "height": 313
        },
        "id": "U-xSVCu-KD80",
        "outputId": "285d7a9f-1789-473e-9edc-37d89353dc4a"
      },
      "execution_count": null,
      "outputs": [
        {
          "output_type": "execute_result",
          "data": {
            "text/plain": [
              "         Date  DayOfWeek    Month  Season  Year Event ProductID  \\\n",
              "0  2023-01-02     Monday  January  Winter  2023   BAU     P5001   \n",
              "1  2023-01-03    Tuesday  January  Winter  2023   BAU     P5002   \n",
              "2  2023-01-04  Wednesday  January  Winter  2023   BAU     P5003   \n",
              "3  2023-01-05   Thursday  January  Winter  2023   BAU     P5004   \n",
              "4  2023-01-06     Friday  January  Winter  2023   BAU     P5005   \n",
              "\n",
              "  ProductCategory  Price  DiscountRate  InventoryLevel  ProductRating  \\\n",
              "0     Electronics   5000             5             300            4.2   \n",
              "1         Fashion    800            10             500            4.0   \n",
              "2      Home Decor   1500             8             400            4.3   \n",
              "3         Grocery    200             2             800            4.1   \n",
              "4     Electronics   8000             5             150            4.5   \n",
              "\n",
              "   ReviewCount  SalesVolume  Revenue  MarketingSpend  CompetitorPrice  \\\n",
              "0          150           20  95000.0           20000             5100   \n",
              "1          100           35  25200.0           15000              820   \n",
              "2           80           15  20700.0           12000             1520   \n",
              "3           50          100  19600.0            8000              205   \n",
              "4          200           10  76000.0           25000             8100   \n",
              "\n",
              "   InflationRate  ConsumerConfidenceIndex  Temperature  Rainfall  CustomerAge  \\\n",
              "0            5.0                       90           10         0           30   \n",
              "1            5.0                       90           10         0           25   \n",
              "2            5.0                       90           10         0           35   \n",
              "3            5.0                       90           10         0           40   \n",
              "4            5.0                       90           10         0           28   \n",
              "\n",
              "  CustomerGender CustomerLocation CustomerIncome   CustomerSegment  \n",
              "0           Male            Urban           High  Occasional Buyer  \n",
              "1         Female            Urban         Medium    Frequent Buyer  \n",
              "2         Female         Suburban           High  Occasional Buyer  \n",
              "3           Male            Rural            Low    Frequent Buyer  \n",
              "4         Female            Urban           High  First-time Buyer  "
            ],
            "text/html": [
              "\n",
              "  <div id=\"df-6957b8d9-c56d-43b0-baec-30f57d80f522\" class=\"colab-df-container\">\n",
              "    <div>\n",
              "<style scoped>\n",
              "    .dataframe tbody tr th:only-of-type {\n",
              "        vertical-align: middle;\n",
              "    }\n",
              "\n",
              "    .dataframe tbody tr th {\n",
              "        vertical-align: top;\n",
              "    }\n",
              "\n",
              "    .dataframe thead th {\n",
              "        text-align: right;\n",
              "    }\n",
              "</style>\n",
              "<table border=\"1\" class=\"dataframe\">\n",
              "  <thead>\n",
              "    <tr style=\"text-align: right;\">\n",
              "      <th></th>\n",
              "      <th>Date</th>\n",
              "      <th>DayOfWeek</th>\n",
              "      <th>Month</th>\n",
              "      <th>Season</th>\n",
              "      <th>Year</th>\n",
              "      <th>Event</th>\n",
              "      <th>ProductID</th>\n",
              "      <th>ProductCategory</th>\n",
              "      <th>Price</th>\n",
              "      <th>DiscountRate</th>\n",
              "      <th>InventoryLevel</th>\n",
              "      <th>ProductRating</th>\n",
              "      <th>ReviewCount</th>\n",
              "      <th>SalesVolume</th>\n",
              "      <th>Revenue</th>\n",
              "      <th>MarketingSpend</th>\n",
              "      <th>CompetitorPrice</th>\n",
              "      <th>InflationRate</th>\n",
              "      <th>ConsumerConfidenceIndex</th>\n",
              "      <th>Temperature</th>\n",
              "      <th>Rainfall</th>\n",
              "      <th>CustomerAge</th>\n",
              "      <th>CustomerGender</th>\n",
              "      <th>CustomerLocation</th>\n",
              "      <th>CustomerIncome</th>\n",
              "      <th>CustomerSegment</th>\n",
              "    </tr>\n",
              "  </thead>\n",
              "  <tbody>\n",
              "    <tr>\n",
              "      <th>0</th>\n",
              "      <td>2023-01-02</td>\n",
              "      <td>Monday</td>\n",
              "      <td>January</td>\n",
              "      <td>Winter</td>\n",
              "      <td>2023</td>\n",
              "      <td>BAU</td>\n",
              "      <td>P5001</td>\n",
              "      <td>Electronics</td>\n",
              "      <td>5000</td>\n",
              "      <td>5</td>\n",
              "      <td>300</td>\n",
              "      <td>4.2</td>\n",
              "      <td>150</td>\n",
              "      <td>20</td>\n",
              "      <td>95000.0</td>\n",
              "      <td>20000</td>\n",
              "      <td>5100</td>\n",
              "      <td>5.0</td>\n",
              "      <td>90</td>\n",
              "      <td>10</td>\n",
              "      <td>0</td>\n",
              "      <td>30</td>\n",
              "      <td>Male</td>\n",
              "      <td>Urban</td>\n",
              "      <td>High</td>\n",
              "      <td>Occasional Buyer</td>\n",
              "    </tr>\n",
              "    <tr>\n",
              "      <th>1</th>\n",
              "      <td>2023-01-03</td>\n",
              "      <td>Tuesday</td>\n",
              "      <td>January</td>\n",
              "      <td>Winter</td>\n",
              "      <td>2023</td>\n",
              "      <td>BAU</td>\n",
              "      <td>P5002</td>\n",
              "      <td>Fashion</td>\n",
              "      <td>800</td>\n",
              "      <td>10</td>\n",
              "      <td>500</td>\n",
              "      <td>4.0</td>\n",
              "      <td>100</td>\n",
              "      <td>35</td>\n",
              "      <td>25200.0</td>\n",
              "      <td>15000</td>\n",
              "      <td>820</td>\n",
              "      <td>5.0</td>\n",
              "      <td>90</td>\n",
              "      <td>10</td>\n",
              "      <td>0</td>\n",
              "      <td>25</td>\n",
              "      <td>Female</td>\n",
              "      <td>Urban</td>\n",
              "      <td>Medium</td>\n",
              "      <td>Frequent Buyer</td>\n",
              "    </tr>\n",
              "    <tr>\n",
              "      <th>2</th>\n",
              "      <td>2023-01-04</td>\n",
              "      <td>Wednesday</td>\n",
              "      <td>January</td>\n",
              "      <td>Winter</td>\n",
              "      <td>2023</td>\n",
              "      <td>BAU</td>\n",
              "      <td>P5003</td>\n",
              "      <td>Home Decor</td>\n",
              "      <td>1500</td>\n",
              "      <td>8</td>\n",
              "      <td>400</td>\n",
              "      <td>4.3</td>\n",
              "      <td>80</td>\n",
              "      <td>15</td>\n",
              "      <td>20700.0</td>\n",
              "      <td>12000</td>\n",
              "      <td>1520</td>\n",
              "      <td>5.0</td>\n",
              "      <td>90</td>\n",
              "      <td>10</td>\n",
              "      <td>0</td>\n",
              "      <td>35</td>\n",
              "      <td>Female</td>\n",
              "      <td>Suburban</td>\n",
              "      <td>High</td>\n",
              "      <td>Occasional Buyer</td>\n",
              "    </tr>\n",
              "    <tr>\n",
              "      <th>3</th>\n",
              "      <td>2023-01-05</td>\n",
              "      <td>Thursday</td>\n",
              "      <td>January</td>\n",
              "      <td>Winter</td>\n",
              "      <td>2023</td>\n",
              "      <td>BAU</td>\n",
              "      <td>P5004</td>\n",
              "      <td>Grocery</td>\n",
              "      <td>200</td>\n",
              "      <td>2</td>\n",
              "      <td>800</td>\n",
              "      <td>4.1</td>\n",
              "      <td>50</td>\n",
              "      <td>100</td>\n",
              "      <td>19600.0</td>\n",
              "      <td>8000</td>\n",
              "      <td>205</td>\n",
              "      <td>5.0</td>\n",
              "      <td>90</td>\n",
              "      <td>10</td>\n",
              "      <td>0</td>\n",
              "      <td>40</td>\n",
              "      <td>Male</td>\n",
              "      <td>Rural</td>\n",
              "      <td>Low</td>\n",
              "      <td>Frequent Buyer</td>\n",
              "    </tr>\n",
              "    <tr>\n",
              "      <th>4</th>\n",
              "      <td>2023-01-06</td>\n",
              "      <td>Friday</td>\n",
              "      <td>January</td>\n",
              "      <td>Winter</td>\n",
              "      <td>2023</td>\n",
              "      <td>BAU</td>\n",
              "      <td>P5005</td>\n",
              "      <td>Electronics</td>\n",
              "      <td>8000</td>\n",
              "      <td>5</td>\n",
              "      <td>150</td>\n",
              "      <td>4.5</td>\n",
              "      <td>200</td>\n",
              "      <td>10</td>\n",
              "      <td>76000.0</td>\n",
              "      <td>25000</td>\n",
              "      <td>8100</td>\n",
              "      <td>5.0</td>\n",
              "      <td>90</td>\n",
              "      <td>10</td>\n",
              "      <td>0</td>\n",
              "      <td>28</td>\n",
              "      <td>Female</td>\n",
              "      <td>Urban</td>\n",
              "      <td>High</td>\n",
              "      <td>First-time Buyer</td>\n",
              "    </tr>\n",
              "  </tbody>\n",
              "</table>\n",
              "</div>\n",
              "    <div class=\"colab-df-buttons\">\n",
              "\n",
              "  <div class=\"colab-df-container\">\n",
              "    <button class=\"colab-df-convert\" onclick=\"convertToInteractive('df-6957b8d9-c56d-43b0-baec-30f57d80f522')\"\n",
              "            title=\"Convert this dataframe to an interactive table.\"\n",
              "            style=\"display:none;\">\n",
              "\n",
              "  <svg xmlns=\"http://www.w3.org/2000/svg\" height=\"24px\" viewBox=\"0 -960 960 960\">\n",
              "    <path d=\"M120-120v-720h720v720H120Zm60-500h600v-160H180v160Zm220 220h160v-160H400v160Zm0 220h160v-160H400v160ZM180-400h160v-160H180v160Zm440 0h160v-160H620v160ZM180-180h160v-160H180v160Zm440 0h160v-160H620v160Z\"/>\n",
              "  </svg>\n",
              "    </button>\n",
              "\n",
              "  <style>\n",
              "    .colab-df-container {\n",
              "      display:flex;\n",
              "      gap: 12px;\n",
              "    }\n",
              "\n",
              "    .colab-df-convert {\n",
              "      background-color: #E8F0FE;\n",
              "      border: none;\n",
              "      border-radius: 50%;\n",
              "      cursor: pointer;\n",
              "      display: none;\n",
              "      fill: #1967D2;\n",
              "      height: 32px;\n",
              "      padding: 0 0 0 0;\n",
              "      width: 32px;\n",
              "    }\n",
              "\n",
              "    .colab-df-convert:hover {\n",
              "      background-color: #E2EBFA;\n",
              "      box-shadow: 0px 1px 2px rgba(60, 64, 67, 0.3), 0px 1px 3px 1px rgba(60, 64, 67, 0.15);\n",
              "      fill: #174EA6;\n",
              "    }\n",
              "\n",
              "    .colab-df-buttons div {\n",
              "      margin-bottom: 4px;\n",
              "    }\n",
              "\n",
              "    [theme=dark] .colab-df-convert {\n",
              "      background-color: #3B4455;\n",
              "      fill: #D2E3FC;\n",
              "    }\n",
              "\n",
              "    [theme=dark] .colab-df-convert:hover {\n",
              "      background-color: #434B5C;\n",
              "      box-shadow: 0px 1px 3px 1px rgba(0, 0, 0, 0.15);\n",
              "      filter: drop-shadow(0px 1px 2px rgba(0, 0, 0, 0.3));\n",
              "      fill: #FFFFFF;\n",
              "    }\n",
              "  </style>\n",
              "\n",
              "    <script>\n",
              "      const buttonEl =\n",
              "        document.querySelector('#df-6957b8d9-c56d-43b0-baec-30f57d80f522 button.colab-df-convert');\n",
              "      buttonEl.style.display =\n",
              "        google.colab.kernel.accessAllowed ? 'block' : 'none';\n",
              "\n",
              "      async function convertToInteractive(key) {\n",
              "        const element = document.querySelector('#df-6957b8d9-c56d-43b0-baec-30f57d80f522');\n",
              "        const dataTable =\n",
              "          await google.colab.kernel.invokeFunction('convertToInteractive',\n",
              "                                                    [key], {});\n",
              "        if (!dataTable) return;\n",
              "\n",
              "        const docLinkHtml = 'Like what you see? Visit the ' +\n",
              "          '<a target=\"_blank\" href=https://colab.research.google.com/notebooks/data_table.ipynb>data table notebook</a>'\n",
              "          + ' to learn more about interactive tables.';\n",
              "        element.innerHTML = '';\n",
              "        dataTable['output_type'] = 'display_data';\n",
              "        await google.colab.output.renderOutput(dataTable, element);\n",
              "        const docLink = document.createElement('div');\n",
              "        docLink.innerHTML = docLinkHtml;\n",
              "        element.appendChild(docLink);\n",
              "      }\n",
              "    </script>\n",
              "  </div>\n",
              "\n",
              "\n",
              "<div id=\"df-62ff905b-9bed-4ca9-9964-8ed72952e160\">\n",
              "  <button class=\"colab-df-quickchart\" onclick=\"quickchart('df-62ff905b-9bed-4ca9-9964-8ed72952e160')\"\n",
              "            title=\"Suggest charts\"\n",
              "            style=\"display:none;\">\n",
              "\n",
              "<svg xmlns=\"http://www.w3.org/2000/svg\" height=\"24px\"viewBox=\"0 0 24 24\"\n",
              "     width=\"24px\">\n",
              "    <g>\n",
              "        <path d=\"M19 3H5c-1.1 0-2 .9-2 2v14c0 1.1.9 2 2 2h14c1.1 0 2-.9 2-2V5c0-1.1-.9-2-2-2zM9 17H7v-7h2v7zm4 0h-2V7h2v10zm4 0h-2v-4h2v4z\"/>\n",
              "    </g>\n",
              "</svg>\n",
              "  </button>\n",
              "\n",
              "<style>\n",
              "  .colab-df-quickchart {\n",
              "      --bg-color: #E8F0FE;\n",
              "      --fill-color: #1967D2;\n",
              "      --hover-bg-color: #E2EBFA;\n",
              "      --hover-fill-color: #174EA6;\n",
              "      --disabled-fill-color: #AAA;\n",
              "      --disabled-bg-color: #DDD;\n",
              "  }\n",
              "\n",
              "  [theme=dark] .colab-df-quickchart {\n",
              "      --bg-color: #3B4455;\n",
              "      --fill-color: #D2E3FC;\n",
              "      --hover-bg-color: #434B5C;\n",
              "      --hover-fill-color: #FFFFFF;\n",
              "      --disabled-bg-color: #3B4455;\n",
              "      --disabled-fill-color: #666;\n",
              "  }\n",
              "\n",
              "  .colab-df-quickchart {\n",
              "    background-color: var(--bg-color);\n",
              "    border: none;\n",
              "    border-radius: 50%;\n",
              "    cursor: pointer;\n",
              "    display: none;\n",
              "    fill: var(--fill-color);\n",
              "    height: 32px;\n",
              "    padding: 0;\n",
              "    width: 32px;\n",
              "  }\n",
              "\n",
              "  .colab-df-quickchart:hover {\n",
              "    background-color: var(--hover-bg-color);\n",
              "    box-shadow: 0 1px 2px rgba(60, 64, 67, 0.3), 0 1px 3px 1px rgba(60, 64, 67, 0.15);\n",
              "    fill: var(--button-hover-fill-color);\n",
              "  }\n",
              "\n",
              "  .colab-df-quickchart-complete:disabled,\n",
              "  .colab-df-quickchart-complete:disabled:hover {\n",
              "    background-color: var(--disabled-bg-color);\n",
              "    fill: var(--disabled-fill-color);\n",
              "    box-shadow: none;\n",
              "  }\n",
              "\n",
              "  .colab-df-spinner {\n",
              "    border: 2px solid var(--fill-color);\n",
              "    border-color: transparent;\n",
              "    border-bottom-color: var(--fill-color);\n",
              "    animation:\n",
              "      spin 1s steps(1) infinite;\n",
              "  }\n",
              "\n",
              "  @keyframes spin {\n",
              "    0% {\n",
              "      border-color: transparent;\n",
              "      border-bottom-color: var(--fill-color);\n",
              "      border-left-color: var(--fill-color);\n",
              "    }\n",
              "    20% {\n",
              "      border-color: transparent;\n",
              "      border-left-color: var(--fill-color);\n",
              "      border-top-color: var(--fill-color);\n",
              "    }\n",
              "    30% {\n",
              "      border-color: transparent;\n",
              "      border-left-color: var(--fill-color);\n",
              "      border-top-color: var(--fill-color);\n",
              "      border-right-color: var(--fill-color);\n",
              "    }\n",
              "    40% {\n",
              "      border-color: transparent;\n",
              "      border-right-color: var(--fill-color);\n",
              "      border-top-color: var(--fill-color);\n",
              "    }\n",
              "    60% {\n",
              "      border-color: transparent;\n",
              "      border-right-color: var(--fill-color);\n",
              "    }\n",
              "    80% {\n",
              "      border-color: transparent;\n",
              "      border-right-color: var(--fill-color);\n",
              "      border-bottom-color: var(--fill-color);\n",
              "    }\n",
              "    90% {\n",
              "      border-color: transparent;\n",
              "      border-bottom-color: var(--fill-color);\n",
              "    }\n",
              "  }\n",
              "</style>\n",
              "\n",
              "  <script>\n",
              "    async function quickchart(key) {\n",
              "      const quickchartButtonEl =\n",
              "        document.querySelector('#' + key + ' button');\n",
              "      quickchartButtonEl.disabled = true;  // To prevent multiple clicks.\n",
              "      quickchartButtonEl.classList.add('colab-df-spinner');\n",
              "      try {\n",
              "        const charts = await google.colab.kernel.invokeFunction(\n",
              "            'suggestCharts', [key], {});\n",
              "      } catch (error) {\n",
              "        console.error('Error during call to suggestCharts:', error);\n",
              "      }\n",
              "      quickchartButtonEl.classList.remove('colab-df-spinner');\n",
              "      quickchartButtonEl.classList.add('colab-df-quickchart-complete');\n",
              "    }\n",
              "    (() => {\n",
              "      let quickchartButtonEl =\n",
              "        document.querySelector('#df-62ff905b-9bed-4ca9-9964-8ed72952e160 button');\n",
              "      quickchartButtonEl.style.display =\n",
              "        google.colab.kernel.accessAllowed ? 'block' : 'none';\n",
              "    })();\n",
              "  </script>\n",
              "</div>\n",
              "\n",
              "    </div>\n",
              "  </div>\n"
            ],
            "application/vnd.google.colaboratory.intrinsic+json": {
              "type": "dataframe",
              "variable_name": "df"
            }
          },
          "metadata": {},
          "execution_count": 7
        }
      ]
    },
    {
      "cell_type": "code",
      "source": [
        "# Convert 'Date' column to datetime format\n",
        "df['Date'] = pd.to_datetime(df['Date'])\n",
        "\n",
        "# Extract day of the month\n",
        "df['DayOfMonth'] = df['Date'].dt.day\n",
        "\n",
        "# Extract week of the year\n",
        "df['WeekOfYear'] = df['Date'].dt.isocalendar().week\n",
        "\n",
        "# Create 'IsWeekend' feature\n",
        "df['IsWeekend'] = df['Date'].dt.weekday >= 5  # Saturday=5, Sunday=6\n",
        "\n",
        "# Create 'IsEventDay' feature\n",
        "event_days = df[df['Event'] != 'BAU']['Date'].unique()\n",
        "df['IsEventDay'] = df['Date'].isin(event_days)\n"
      ],
      "metadata": {
        "id": "0V9bOd_KK8eF"
      },
      "execution_count": null,
      "outputs": []
    },
    {
      "cell_type": "code",
      "source": [
        "# Sort the dataframe by 'ProductID' and 'Date' to maintain chronological order\n",
        "df = df.sort_values(by=['ProductID', 'Date'])\n",
        "\n",
        "# Create lag features for previous 1, 7, and 14 days\n",
        "df['SalesVolume_Lag1'] = df.groupby('ProductID')['SalesVolume'].shift(1)\n",
        "df['SalesVolume_Lag7'] = df.groupby('ProductID')['SalesVolume'].shift(7)\n",
        "df['SalesVolume_Lag14'] = df.groupby('ProductID')['SalesVolume'].shift(14)\n"
      ],
      "metadata": {
        "id": "Ir_09Qr9K_6K"
      },
      "execution_count": null,
      "outputs": []
    },
    {
      "cell_type": "code",
      "source": [
        "# Rolling window sizes\n",
        "window_sizes = [7, 14]\n",
        "\n",
        "for window in window_sizes:\n",
        "    df[f'SalesVolume_RollingMean_{window}'] = df.groupby('ProductID')['SalesVolume'].transform(lambda x: x.shift(1).rolling(window=window).mean())\n",
        "    df[f'SalesVolume_RollingStd_{window}'] = df.groupby('ProductID')['SalesVolume'].transform(lambda x: x.shift(1).rolling(window=window).std())\n"
      ],
      "metadata": {
        "id": "-BOZaMGjLC9r"
      },
      "execution_count": null,
      "outputs": []
    },
    {
      "cell_type": "code",
      "source": [
        "# List of categorical variables for one-hot encoding\n",
        "categorical_vars = ['ProductCategory', 'CustomerSegment', 'Event']\n",
        "\n",
        "# Perform one-hot encoding\n",
        "df_encoded = pd.get_dummies(df, columns=categorical_vars, drop_first=True)\n"
      ],
      "metadata": {
        "id": "HIVW8v6ILHQI"
      },
      "execution_count": null,
      "outputs": []
    },
    {
      "cell_type": "code",
      "source": [
        "# Define the order for 'CustomerIncome'\n",
        "income_order = {'Low': 1, 'Medium': 2, 'High': 3}\n",
        "\n",
        "# Map the values\n",
        "df_encoded['CustomerIncome_Encoded'] = df_encoded['CustomerIncome'].map(income_order)\n"
      ],
      "metadata": {
        "id": "I0axE-qFLJ2Z"
      },
      "execution_count": null,
      "outputs": []
    },
    {
      "cell_type": "code",
      "source": [
        "df_encoded = df_encoded.drop('CustomerIncome', axis=1)\n"
      ],
      "metadata": {
        "id": "R2ZNYrsuLM05"
      },
      "execution_count": null,
      "outputs": []
    },
    {
      "cell_type": "code",
      "source": [
        "# Interaction between Price and DiscountRate\n",
        "df_encoded['Price_DiscountRate'] = df_encoded['Price'] * df_encoded['DiscountRate']\n",
        "\n",
        "# Interaction between MarketingSpend and CompetitorPrice\n",
        "df_encoded['Marketing_CompetitorPrice'] = df_encoded['MarketingSpend'] / (df_encoded['CompetitorPrice'] + 1)  # Add 1 to avoid division by zero\n"
      ],
      "metadata": {
        "id": "SY2CU49sLPLq"
      },
      "execution_count": null,
      "outputs": []
    },
    {
      "cell_type": "code",
      "source": [
        "# Convert 'InflationRate' and 'ConsumerConfidenceIndex' to numeric if not already\n",
        "df_encoded['InflationRate'] = pd.to_numeric(df_encoded['InflationRate'])\n",
        "df_encoded['ConsumerConfidenceIndex'] = pd.to_numeric(df_encoded['ConsumerConfidenceIndex'])\n",
        "\n",
        "# Create lag features for macroeconomic indicators\n",
        "df_encoded['InflationRate_Lag1'] = df_encoded['InflationRate'].shift(1)\n",
        "df_encoded['ConsumerConfidenceIndex_Lag1'] = df_encoded['ConsumerConfidenceIndex'].shift(1)\n",
        "\n",
        "# Fill NaN values with current values or other appropriate method\n",
        "df_encoded[['InflationRate_Lag1', 'ConsumerConfidenceIndex_Lag1']] = df_encoded[['InflationRate_Lag1', 'ConsumerConfidenceIndex_Lag1']].fillna(method='bfill')\n"
      ],
      "metadata": {
        "colab": {
          "base_uri": "https://localhost:8080/"
        },
        "id": "r8f3X6zgLRnp",
        "outputId": "687ae6ba-9693-435e-e19b-dff369b24897"
      },
      "execution_count": null,
      "outputs": [
        {
          "output_type": "stream",
          "name": "stderr",
          "text": [
            "<ipython-input-15-a08d6e1042cd>:10: FutureWarning: DataFrame.fillna with 'method' is deprecated and will raise in a future version. Use obj.ffill() or obj.bfill() instead.\n",
            "  df_encoded[['InflationRate_Lag1', 'ConsumerConfidenceIndex_Lag1']] = df_encoded[['InflationRate_Lag1', 'ConsumerConfidenceIndex_Lag1']].fillna(method='bfill')\n"
          ]
        }
      ]
    },
    {
      "cell_type": "code",
      "source": [
        "df_encoded.head()\n"
      ],
      "metadata": {
        "colab": {
          "base_uri": "https://localhost:8080/",
          "height": 330
        },
        "id": "_DY9lfOzLT5X",
        "outputId": "45304a31-e061-440b-d4ac-cfdd3ed03920"
      },
      "execution_count": null,
      "outputs": [
        {
          "output_type": "execute_result",
          "data": {
            "text/plain": [
              "          Date DayOfWeek    Month  Season  Year ProductID  Price  \\\n",
              "424 2023-10-20    Friday  October  Autumn  2023     P1001   1500   \n",
              "434 2023-10-21  Saturday  October  Autumn  2023     P1001   1500   \n",
              "444 2023-10-22    Sunday  October  Autumn  2023     P1001   1500   \n",
              "454 2023-10-23    Monday  October  Autumn  2023     P1001   1500   \n",
              "464 2023-10-24   Tuesday  October  Autumn  2023     P1001   1500   \n",
              "\n",
              "     DiscountRate  InventoryLevel  ProductRating  ReviewCount  SalesVolume  \\\n",
              "424            20             500            4.5          200          100   \n",
              "434            20             450            4.5          200          110   \n",
              "444            20             400            4.5          200          120   \n",
              "454            20             380            4.5          200           90   \n",
              "464            20             370            4.5          200           80   \n",
              "\n",
              "      Revenue  MarketingSpend  CompetitorPrice  InflationRate  \\\n",
              "424  120000.0           50000             1550            5.5   \n",
              "434  132000.0           50000             1550            5.5   \n",
              "444  144000.0           50000             1550            5.5   \n",
              "454  108000.0           50000             1550            5.5   \n",
              "464   96000.0           50000             1550            5.5   \n",
              "\n",
              "     ConsumerConfidenceIndex  Temperature  Rainfall  CustomerAge  \\\n",
              "424                       98           25         0           28   \n",
              "434                       98           26         0           28   \n",
              "444                       98           27         0           28   \n",
              "454                       98           25         0           28   \n",
              "464                       98           24         0           28   \n",
              "\n",
              "    CustomerGender CustomerLocation  DayOfMonth  WeekOfYear  IsWeekend  \\\n",
              "424         Female            Urban          20          42      False   \n",
              "434         Female            Urban          21          42       True   \n",
              "444         Female            Urban          22          42       True   \n",
              "454         Female            Urban          23          43      False   \n",
              "464         Female            Urban          24          43      False   \n",
              "\n",
              "     IsEventDay  SalesVolume_Lag1  SalesVolume_Lag7  SalesVolume_Lag14  \\\n",
              "424        True               NaN               NaN                NaN   \n",
              "434        True             100.0               NaN                NaN   \n",
              "444        True             110.0               NaN                NaN   \n",
              "454        True             120.0               NaN                NaN   \n",
              "464        True              90.0               NaN                NaN   \n",
              "\n",
              "     SalesVolume_RollingMean_7  SalesVolume_RollingStd_7  \\\n",
              "424                        NaN                       NaN   \n",
              "434                        NaN                       NaN   \n",
              "444                        NaN                       NaN   \n",
              "454                        NaN                       NaN   \n",
              "464                        NaN                       NaN   \n",
              "\n",
              "     SalesVolume_RollingMean_14  SalesVolume_RollingStd_14  \\\n",
              "424                         NaN                        NaN   \n",
              "434                         NaN                        NaN   \n",
              "444                         NaN                        NaN   \n",
              "454                         NaN                        NaN   \n",
              "464                         NaN                        NaN   \n",
              "\n",
              "     ProductCategory_Beauty Products  ProductCategory_Electronics  \\\n",
              "424                            False                        False   \n",
              "434                            False                        False   \n",
              "444                            False                        False   \n",
              "454                            False                        False   \n",
              "464                            False                        False   \n",
              "\n",
              "     ProductCategory_Fashion  ProductCategory_Footwear  \\\n",
              "424                    False                     False   \n",
              "434                    False                     False   \n",
              "444                    False                     False   \n",
              "454                    False                     False   \n",
              "464                    False                     False   \n",
              "\n",
              "     ProductCategory_Grocery  ProductCategory_Home Decor  \\\n",
              "424                    False                       False   \n",
              "434                    False                       False   \n",
              "444                    False                       False   \n",
              "454                    False                       False   \n",
              "464                    False                       False   \n",
              "\n",
              "     ProductCategory_Jewelry  ProductCategory_Kitchen Appliances  \\\n",
              "424                    False                               False   \n",
              "434                    False                               False   \n",
              "444                    False                               False   \n",
              "454                    False                               False   \n",
              "464                    False                               False   \n",
              "\n",
              "     ProductCategory_Sports Equipment  ProductCategory_Toys  \\\n",
              "424                             False                 False   \n",
              "434                             False                 False   \n",
              "444                             False                 False   \n",
              "454                             False                 False   \n",
              "464                             False                 False   \n",
              "\n",
              "     ProductCategory_Traditional Wear  CustomerSegment_Frequent Buyer  \\\n",
              "424                              True                            True   \n",
              "434                              True                            True   \n",
              "444                              True                            True   \n",
              "454                              True                            True   \n",
              "464                              True                            True   \n",
              "\n",
              "     CustomerSegment_Occasional Buyer  CustomerSegment_Occasional Buyer   \\\n",
              "424                             False                              False   \n",
              "434                             False                              False   \n",
              "444                             False                              False   \n",
              "454                             False                              False   \n",
              "464                             False                              False   \n",
              "\n",
              "     Event_FSMS  Event_MBS  Event_MDS  CustomerIncome_Encoded  \\\n",
              "424       False      False       True                       2   \n",
              "434       False      False       True                       2   \n",
              "444       False      False       True                       2   \n",
              "454       False      False       True                       2   \n",
              "464       False      False       True                       2   \n",
              "\n",
              "     Price_DiscountRate  Marketing_CompetitorPrice  InflationRate_Lag1  \\\n",
              "424               30000                  32.237266                 5.5   \n",
              "434               30000                  32.237266                 5.5   \n",
              "444               30000                  32.237266                 5.5   \n",
              "454               30000                  32.237266                 5.5   \n",
              "464               30000                  32.237266                 5.5   \n",
              "\n",
              "     ConsumerConfidenceIndex_Lag1  \n",
              "424                          98.0  \n",
              "434                          98.0  \n",
              "444                          98.0  \n",
              "454                          98.0  \n",
              "464                          98.0  "
            ],
            "text/html": [
              "\n",
              "  <div id=\"df-f1f3cbab-b5ee-4edd-a4a4-066838fc736a\" class=\"colab-df-container\">\n",
              "    <div>\n",
              "<style scoped>\n",
              "    .dataframe tbody tr th:only-of-type {\n",
              "        vertical-align: middle;\n",
              "    }\n",
              "\n",
              "    .dataframe tbody tr th {\n",
              "        vertical-align: top;\n",
              "    }\n",
              "\n",
              "    .dataframe thead th {\n",
              "        text-align: right;\n",
              "    }\n",
              "</style>\n",
              "<table border=\"1\" class=\"dataframe\">\n",
              "  <thead>\n",
              "    <tr style=\"text-align: right;\">\n",
              "      <th></th>\n",
              "      <th>Date</th>\n",
              "      <th>DayOfWeek</th>\n",
              "      <th>Month</th>\n",
              "      <th>Season</th>\n",
              "      <th>Year</th>\n",
              "      <th>ProductID</th>\n",
              "      <th>Price</th>\n",
              "      <th>DiscountRate</th>\n",
              "      <th>InventoryLevel</th>\n",
              "      <th>ProductRating</th>\n",
              "      <th>ReviewCount</th>\n",
              "      <th>SalesVolume</th>\n",
              "      <th>Revenue</th>\n",
              "      <th>MarketingSpend</th>\n",
              "      <th>CompetitorPrice</th>\n",
              "      <th>InflationRate</th>\n",
              "      <th>ConsumerConfidenceIndex</th>\n",
              "      <th>Temperature</th>\n",
              "      <th>Rainfall</th>\n",
              "      <th>CustomerAge</th>\n",
              "      <th>CustomerGender</th>\n",
              "      <th>CustomerLocation</th>\n",
              "      <th>DayOfMonth</th>\n",
              "      <th>WeekOfYear</th>\n",
              "      <th>IsWeekend</th>\n",
              "      <th>IsEventDay</th>\n",
              "      <th>SalesVolume_Lag1</th>\n",
              "      <th>SalesVolume_Lag7</th>\n",
              "      <th>SalesVolume_Lag14</th>\n",
              "      <th>SalesVolume_RollingMean_7</th>\n",
              "      <th>SalesVolume_RollingStd_7</th>\n",
              "      <th>SalesVolume_RollingMean_14</th>\n",
              "      <th>SalesVolume_RollingStd_14</th>\n",
              "      <th>ProductCategory_Beauty Products</th>\n",
              "      <th>ProductCategory_Electronics</th>\n",
              "      <th>ProductCategory_Fashion</th>\n",
              "      <th>ProductCategory_Footwear</th>\n",
              "      <th>ProductCategory_Grocery</th>\n",
              "      <th>ProductCategory_Home Decor</th>\n",
              "      <th>ProductCategory_Jewelry</th>\n",
              "      <th>ProductCategory_Kitchen Appliances</th>\n",
              "      <th>ProductCategory_Sports Equipment</th>\n",
              "      <th>ProductCategory_Toys</th>\n",
              "      <th>ProductCategory_Traditional Wear</th>\n",
              "      <th>CustomerSegment_Frequent Buyer</th>\n",
              "      <th>CustomerSegment_Occasional Buyer</th>\n",
              "      <th>CustomerSegment_Occasional Buyer</th>\n",
              "      <th>Event_FSMS</th>\n",
              "      <th>Event_MBS</th>\n",
              "      <th>Event_MDS</th>\n",
              "      <th>CustomerIncome_Encoded</th>\n",
              "      <th>Price_DiscountRate</th>\n",
              "      <th>Marketing_CompetitorPrice</th>\n",
              "      <th>InflationRate_Lag1</th>\n",
              "      <th>ConsumerConfidenceIndex_Lag1</th>\n",
              "    </tr>\n",
              "  </thead>\n",
              "  <tbody>\n",
              "    <tr>\n",
              "      <th>424</th>\n",
              "      <td>2023-10-20</td>\n",
              "      <td>Friday</td>\n",
              "      <td>October</td>\n",
              "      <td>Autumn</td>\n",
              "      <td>2023</td>\n",
              "      <td>P1001</td>\n",
              "      <td>1500</td>\n",
              "      <td>20</td>\n",
              "      <td>500</td>\n",
              "      <td>4.5</td>\n",
              "      <td>200</td>\n",
              "      <td>100</td>\n",
              "      <td>120000.0</td>\n",
              "      <td>50000</td>\n",
              "      <td>1550</td>\n",
              "      <td>5.5</td>\n",
              "      <td>98</td>\n",
              "      <td>25</td>\n",
              "      <td>0</td>\n",
              "      <td>28</td>\n",
              "      <td>Female</td>\n",
              "      <td>Urban</td>\n",
              "      <td>20</td>\n",
              "      <td>42</td>\n",
              "      <td>False</td>\n",
              "      <td>True</td>\n",
              "      <td>NaN</td>\n",
              "      <td>NaN</td>\n",
              "      <td>NaN</td>\n",
              "      <td>NaN</td>\n",
              "      <td>NaN</td>\n",
              "      <td>NaN</td>\n",
              "      <td>NaN</td>\n",
              "      <td>False</td>\n",
              "      <td>False</td>\n",
              "      <td>False</td>\n",
              "      <td>False</td>\n",
              "      <td>False</td>\n",
              "      <td>False</td>\n",
              "      <td>False</td>\n",
              "      <td>False</td>\n",
              "      <td>False</td>\n",
              "      <td>False</td>\n",
              "      <td>True</td>\n",
              "      <td>True</td>\n",
              "      <td>False</td>\n",
              "      <td>False</td>\n",
              "      <td>False</td>\n",
              "      <td>False</td>\n",
              "      <td>True</td>\n",
              "      <td>2</td>\n",
              "      <td>30000</td>\n",
              "      <td>32.237266</td>\n",
              "      <td>5.5</td>\n",
              "      <td>98.0</td>\n",
              "    </tr>\n",
              "    <tr>\n",
              "      <th>434</th>\n",
              "      <td>2023-10-21</td>\n",
              "      <td>Saturday</td>\n",
              "      <td>October</td>\n",
              "      <td>Autumn</td>\n",
              "      <td>2023</td>\n",
              "      <td>P1001</td>\n",
              "      <td>1500</td>\n",
              "      <td>20</td>\n",
              "      <td>450</td>\n",
              "      <td>4.5</td>\n",
              "      <td>200</td>\n",
              "      <td>110</td>\n",
              "      <td>132000.0</td>\n",
              "      <td>50000</td>\n",
              "      <td>1550</td>\n",
              "      <td>5.5</td>\n",
              "      <td>98</td>\n",
              "      <td>26</td>\n",
              "      <td>0</td>\n",
              "      <td>28</td>\n",
              "      <td>Female</td>\n",
              "      <td>Urban</td>\n",
              "      <td>21</td>\n",
              "      <td>42</td>\n",
              "      <td>True</td>\n",
              "      <td>True</td>\n",
              "      <td>100.0</td>\n",
              "      <td>NaN</td>\n",
              "      <td>NaN</td>\n",
              "      <td>NaN</td>\n",
              "      <td>NaN</td>\n",
              "      <td>NaN</td>\n",
              "      <td>NaN</td>\n",
              "      <td>False</td>\n",
              "      <td>False</td>\n",
              "      <td>False</td>\n",
              "      <td>False</td>\n",
              "      <td>False</td>\n",
              "      <td>False</td>\n",
              "      <td>False</td>\n",
              "      <td>False</td>\n",
              "      <td>False</td>\n",
              "      <td>False</td>\n",
              "      <td>True</td>\n",
              "      <td>True</td>\n",
              "      <td>False</td>\n",
              "      <td>False</td>\n",
              "      <td>False</td>\n",
              "      <td>False</td>\n",
              "      <td>True</td>\n",
              "      <td>2</td>\n",
              "      <td>30000</td>\n",
              "      <td>32.237266</td>\n",
              "      <td>5.5</td>\n",
              "      <td>98.0</td>\n",
              "    </tr>\n",
              "    <tr>\n",
              "      <th>444</th>\n",
              "      <td>2023-10-22</td>\n",
              "      <td>Sunday</td>\n",
              "      <td>October</td>\n",
              "      <td>Autumn</td>\n",
              "      <td>2023</td>\n",
              "      <td>P1001</td>\n",
              "      <td>1500</td>\n",
              "      <td>20</td>\n",
              "      <td>400</td>\n",
              "      <td>4.5</td>\n",
              "      <td>200</td>\n",
              "      <td>120</td>\n",
              "      <td>144000.0</td>\n",
              "      <td>50000</td>\n",
              "      <td>1550</td>\n",
              "      <td>5.5</td>\n",
              "      <td>98</td>\n",
              "      <td>27</td>\n",
              "      <td>0</td>\n",
              "      <td>28</td>\n",
              "      <td>Female</td>\n",
              "      <td>Urban</td>\n",
              "      <td>22</td>\n",
              "      <td>42</td>\n",
              "      <td>True</td>\n",
              "      <td>True</td>\n",
              "      <td>110.0</td>\n",
              "      <td>NaN</td>\n",
              "      <td>NaN</td>\n",
              "      <td>NaN</td>\n",
              "      <td>NaN</td>\n",
              "      <td>NaN</td>\n",
              "      <td>NaN</td>\n",
              "      <td>False</td>\n",
              "      <td>False</td>\n",
              "      <td>False</td>\n",
              "      <td>False</td>\n",
              "      <td>False</td>\n",
              "      <td>False</td>\n",
              "      <td>False</td>\n",
              "      <td>False</td>\n",
              "      <td>False</td>\n",
              "      <td>False</td>\n",
              "      <td>True</td>\n",
              "      <td>True</td>\n",
              "      <td>False</td>\n",
              "      <td>False</td>\n",
              "      <td>False</td>\n",
              "      <td>False</td>\n",
              "      <td>True</td>\n",
              "      <td>2</td>\n",
              "      <td>30000</td>\n",
              "      <td>32.237266</td>\n",
              "      <td>5.5</td>\n",
              "      <td>98.0</td>\n",
              "    </tr>\n",
              "    <tr>\n",
              "      <th>454</th>\n",
              "      <td>2023-10-23</td>\n",
              "      <td>Monday</td>\n",
              "      <td>October</td>\n",
              "      <td>Autumn</td>\n",
              "      <td>2023</td>\n",
              "      <td>P1001</td>\n",
              "      <td>1500</td>\n",
              "      <td>20</td>\n",
              "      <td>380</td>\n",
              "      <td>4.5</td>\n",
              "      <td>200</td>\n",
              "      <td>90</td>\n",
              "      <td>108000.0</td>\n",
              "      <td>50000</td>\n",
              "      <td>1550</td>\n",
              "      <td>5.5</td>\n",
              "      <td>98</td>\n",
              "      <td>25</td>\n",
              "      <td>0</td>\n",
              "      <td>28</td>\n",
              "      <td>Female</td>\n",
              "      <td>Urban</td>\n",
              "      <td>23</td>\n",
              "      <td>43</td>\n",
              "      <td>False</td>\n",
              "      <td>True</td>\n",
              "      <td>120.0</td>\n",
              "      <td>NaN</td>\n",
              "      <td>NaN</td>\n",
              "      <td>NaN</td>\n",
              "      <td>NaN</td>\n",
              "      <td>NaN</td>\n",
              "      <td>NaN</td>\n",
              "      <td>False</td>\n",
              "      <td>False</td>\n",
              "      <td>False</td>\n",
              "      <td>False</td>\n",
              "      <td>False</td>\n",
              "      <td>False</td>\n",
              "      <td>False</td>\n",
              "      <td>False</td>\n",
              "      <td>False</td>\n",
              "      <td>False</td>\n",
              "      <td>True</td>\n",
              "      <td>True</td>\n",
              "      <td>False</td>\n",
              "      <td>False</td>\n",
              "      <td>False</td>\n",
              "      <td>False</td>\n",
              "      <td>True</td>\n",
              "      <td>2</td>\n",
              "      <td>30000</td>\n",
              "      <td>32.237266</td>\n",
              "      <td>5.5</td>\n",
              "      <td>98.0</td>\n",
              "    </tr>\n",
              "    <tr>\n",
              "      <th>464</th>\n",
              "      <td>2023-10-24</td>\n",
              "      <td>Tuesday</td>\n",
              "      <td>October</td>\n",
              "      <td>Autumn</td>\n",
              "      <td>2023</td>\n",
              "      <td>P1001</td>\n",
              "      <td>1500</td>\n",
              "      <td>20</td>\n",
              "      <td>370</td>\n",
              "      <td>4.5</td>\n",
              "      <td>200</td>\n",
              "      <td>80</td>\n",
              "      <td>96000.0</td>\n",
              "      <td>50000</td>\n",
              "      <td>1550</td>\n",
              "      <td>5.5</td>\n",
              "      <td>98</td>\n",
              "      <td>24</td>\n",
              "      <td>0</td>\n",
              "      <td>28</td>\n",
              "      <td>Female</td>\n",
              "      <td>Urban</td>\n",
              "      <td>24</td>\n",
              "      <td>43</td>\n",
              "      <td>False</td>\n",
              "      <td>True</td>\n",
              "      <td>90.0</td>\n",
              "      <td>NaN</td>\n",
              "      <td>NaN</td>\n",
              "      <td>NaN</td>\n",
              "      <td>NaN</td>\n",
              "      <td>NaN</td>\n",
              "      <td>NaN</td>\n",
              "      <td>False</td>\n",
              "      <td>False</td>\n",
              "      <td>False</td>\n",
              "      <td>False</td>\n",
              "      <td>False</td>\n",
              "      <td>False</td>\n",
              "      <td>False</td>\n",
              "      <td>False</td>\n",
              "      <td>False</td>\n",
              "      <td>False</td>\n",
              "      <td>True</td>\n",
              "      <td>True</td>\n",
              "      <td>False</td>\n",
              "      <td>False</td>\n",
              "      <td>False</td>\n",
              "      <td>False</td>\n",
              "      <td>True</td>\n",
              "      <td>2</td>\n",
              "      <td>30000</td>\n",
              "      <td>32.237266</td>\n",
              "      <td>5.5</td>\n",
              "      <td>98.0</td>\n",
              "    </tr>\n",
              "  </tbody>\n",
              "</table>\n",
              "</div>\n",
              "    <div class=\"colab-df-buttons\">\n",
              "\n",
              "  <div class=\"colab-df-container\">\n",
              "    <button class=\"colab-df-convert\" onclick=\"convertToInteractive('df-f1f3cbab-b5ee-4edd-a4a4-066838fc736a')\"\n",
              "            title=\"Convert this dataframe to an interactive table.\"\n",
              "            style=\"display:none;\">\n",
              "\n",
              "  <svg xmlns=\"http://www.w3.org/2000/svg\" height=\"24px\" viewBox=\"0 -960 960 960\">\n",
              "    <path d=\"M120-120v-720h720v720H120Zm60-500h600v-160H180v160Zm220 220h160v-160H400v160Zm0 220h160v-160H400v160ZM180-400h160v-160H180v160Zm440 0h160v-160H620v160ZM180-180h160v-160H180v160Zm440 0h160v-160H620v160Z\"/>\n",
              "  </svg>\n",
              "    </button>\n",
              "\n",
              "  <style>\n",
              "    .colab-df-container {\n",
              "      display:flex;\n",
              "      gap: 12px;\n",
              "    }\n",
              "\n",
              "    .colab-df-convert {\n",
              "      background-color: #E8F0FE;\n",
              "      border: none;\n",
              "      border-radius: 50%;\n",
              "      cursor: pointer;\n",
              "      display: none;\n",
              "      fill: #1967D2;\n",
              "      height: 32px;\n",
              "      padding: 0 0 0 0;\n",
              "      width: 32px;\n",
              "    }\n",
              "\n",
              "    .colab-df-convert:hover {\n",
              "      background-color: #E2EBFA;\n",
              "      box-shadow: 0px 1px 2px rgba(60, 64, 67, 0.3), 0px 1px 3px 1px rgba(60, 64, 67, 0.15);\n",
              "      fill: #174EA6;\n",
              "    }\n",
              "\n",
              "    .colab-df-buttons div {\n",
              "      margin-bottom: 4px;\n",
              "    }\n",
              "\n",
              "    [theme=dark] .colab-df-convert {\n",
              "      background-color: #3B4455;\n",
              "      fill: #D2E3FC;\n",
              "    }\n",
              "\n",
              "    [theme=dark] .colab-df-convert:hover {\n",
              "      background-color: #434B5C;\n",
              "      box-shadow: 0px 1px 3px 1px rgba(0, 0, 0, 0.15);\n",
              "      filter: drop-shadow(0px 1px 2px rgba(0, 0, 0, 0.3));\n",
              "      fill: #FFFFFF;\n",
              "    }\n",
              "  </style>\n",
              "\n",
              "    <script>\n",
              "      const buttonEl =\n",
              "        document.querySelector('#df-f1f3cbab-b5ee-4edd-a4a4-066838fc736a button.colab-df-convert');\n",
              "      buttonEl.style.display =\n",
              "        google.colab.kernel.accessAllowed ? 'block' : 'none';\n",
              "\n",
              "      async function convertToInteractive(key) {\n",
              "        const element = document.querySelector('#df-f1f3cbab-b5ee-4edd-a4a4-066838fc736a');\n",
              "        const dataTable =\n",
              "          await google.colab.kernel.invokeFunction('convertToInteractive',\n",
              "                                                    [key], {});\n",
              "        if (!dataTable) return;\n",
              "\n",
              "        const docLinkHtml = 'Like what you see? Visit the ' +\n",
              "          '<a target=\"_blank\" href=https://colab.research.google.com/notebooks/data_table.ipynb>data table notebook</a>'\n",
              "          + ' to learn more about interactive tables.';\n",
              "        element.innerHTML = '';\n",
              "        dataTable['output_type'] = 'display_data';\n",
              "        await google.colab.output.renderOutput(dataTable, element);\n",
              "        const docLink = document.createElement('div');\n",
              "        docLink.innerHTML = docLinkHtml;\n",
              "        element.appendChild(docLink);\n",
              "      }\n",
              "    </script>\n",
              "  </div>\n",
              "\n",
              "\n",
              "<div id=\"df-9434136f-33f5-4da2-a334-f46eb2565b83\">\n",
              "  <button class=\"colab-df-quickchart\" onclick=\"quickchart('df-9434136f-33f5-4da2-a334-f46eb2565b83')\"\n",
              "            title=\"Suggest charts\"\n",
              "            style=\"display:none;\">\n",
              "\n",
              "<svg xmlns=\"http://www.w3.org/2000/svg\" height=\"24px\"viewBox=\"0 0 24 24\"\n",
              "     width=\"24px\">\n",
              "    <g>\n",
              "        <path d=\"M19 3H5c-1.1 0-2 .9-2 2v14c0 1.1.9 2 2 2h14c1.1 0 2-.9 2-2V5c0-1.1-.9-2-2-2zM9 17H7v-7h2v7zm4 0h-2V7h2v10zm4 0h-2v-4h2v4z\"/>\n",
              "    </g>\n",
              "</svg>\n",
              "  </button>\n",
              "\n",
              "<style>\n",
              "  .colab-df-quickchart {\n",
              "      --bg-color: #E8F0FE;\n",
              "      --fill-color: #1967D2;\n",
              "      --hover-bg-color: #E2EBFA;\n",
              "      --hover-fill-color: #174EA6;\n",
              "      --disabled-fill-color: #AAA;\n",
              "      --disabled-bg-color: #DDD;\n",
              "  }\n",
              "\n",
              "  [theme=dark] .colab-df-quickchart {\n",
              "      --bg-color: #3B4455;\n",
              "      --fill-color: #D2E3FC;\n",
              "      --hover-bg-color: #434B5C;\n",
              "      --hover-fill-color: #FFFFFF;\n",
              "      --disabled-bg-color: #3B4455;\n",
              "      --disabled-fill-color: #666;\n",
              "  }\n",
              "\n",
              "  .colab-df-quickchart {\n",
              "    background-color: var(--bg-color);\n",
              "    border: none;\n",
              "    border-radius: 50%;\n",
              "    cursor: pointer;\n",
              "    display: none;\n",
              "    fill: var(--fill-color);\n",
              "    height: 32px;\n",
              "    padding: 0;\n",
              "    width: 32px;\n",
              "  }\n",
              "\n",
              "  .colab-df-quickchart:hover {\n",
              "    background-color: var(--hover-bg-color);\n",
              "    box-shadow: 0 1px 2px rgba(60, 64, 67, 0.3), 0 1px 3px 1px rgba(60, 64, 67, 0.15);\n",
              "    fill: var(--button-hover-fill-color);\n",
              "  }\n",
              "\n",
              "  .colab-df-quickchart-complete:disabled,\n",
              "  .colab-df-quickchart-complete:disabled:hover {\n",
              "    background-color: var(--disabled-bg-color);\n",
              "    fill: var(--disabled-fill-color);\n",
              "    box-shadow: none;\n",
              "  }\n",
              "\n",
              "  .colab-df-spinner {\n",
              "    border: 2px solid var(--fill-color);\n",
              "    border-color: transparent;\n",
              "    border-bottom-color: var(--fill-color);\n",
              "    animation:\n",
              "      spin 1s steps(1) infinite;\n",
              "  }\n",
              "\n",
              "  @keyframes spin {\n",
              "    0% {\n",
              "      border-color: transparent;\n",
              "      border-bottom-color: var(--fill-color);\n",
              "      border-left-color: var(--fill-color);\n",
              "    }\n",
              "    20% {\n",
              "      border-color: transparent;\n",
              "      border-left-color: var(--fill-color);\n",
              "      border-top-color: var(--fill-color);\n",
              "    }\n",
              "    30% {\n",
              "      border-color: transparent;\n",
              "      border-left-color: var(--fill-color);\n",
              "      border-top-color: var(--fill-color);\n",
              "      border-right-color: var(--fill-color);\n",
              "    }\n",
              "    40% {\n",
              "      border-color: transparent;\n",
              "      border-right-color: var(--fill-color);\n",
              "      border-top-color: var(--fill-color);\n",
              "    }\n",
              "    60% {\n",
              "      border-color: transparent;\n",
              "      border-right-color: var(--fill-color);\n",
              "    }\n",
              "    80% {\n",
              "      border-color: transparent;\n",
              "      border-right-color: var(--fill-color);\n",
              "      border-bottom-color: var(--fill-color);\n",
              "    }\n",
              "    90% {\n",
              "      border-color: transparent;\n",
              "      border-bottom-color: var(--fill-color);\n",
              "    }\n",
              "  }\n",
              "</style>\n",
              "\n",
              "  <script>\n",
              "    async function quickchart(key) {\n",
              "      const quickchartButtonEl =\n",
              "        document.querySelector('#' + key + ' button');\n",
              "      quickchartButtonEl.disabled = true;  // To prevent multiple clicks.\n",
              "      quickchartButtonEl.classList.add('colab-df-spinner');\n",
              "      try {\n",
              "        const charts = await google.colab.kernel.invokeFunction(\n",
              "            'suggestCharts', [key], {});\n",
              "      } catch (error) {\n",
              "        console.error('Error during call to suggestCharts:', error);\n",
              "      }\n",
              "      quickchartButtonEl.classList.remove('colab-df-spinner');\n",
              "      quickchartButtonEl.classList.add('colab-df-quickchart-complete');\n",
              "    }\n",
              "    (() => {\n",
              "      let quickchartButtonEl =\n",
              "        document.querySelector('#df-9434136f-33f5-4da2-a334-f46eb2565b83 button');\n",
              "      quickchartButtonEl.style.display =\n",
              "        google.colab.kernel.accessAllowed ? 'block' : 'none';\n",
              "    })();\n",
              "  </script>\n",
              "</div>\n",
              "\n",
              "    </div>\n",
              "  </div>\n"
            ],
            "application/vnd.google.colaboratory.intrinsic+json": {
              "type": "dataframe",
              "variable_name": "df_encoded"
            }
          },
          "metadata": {},
          "execution_count": 16
        }
      ]
    },
    {
      "cell_type": "code",
      "source": [
        "# Save to a new CSV file\n",
        "df_encoded.to_csv('new.csv', index=False)\n"
      ],
      "metadata": {
        "id": "VJppTjGBLXic"
      },
      "execution_count": null,
      "outputs": []
    },
    {
      "cell_type": "code",
      "source": [
        "df = pd.read_csv('new.csv')\n"
      ],
      "metadata": {
        "id": "LkITxApyL7Yg"
      },
      "execution_count": null,
      "outputs": []
    },
    {
      "cell_type": "code",
      "source": [
        "df['Date'] = pd.to_datetime(df['Date'])\n"
      ],
      "metadata": {
        "id": "39lbyLAvMFat"
      },
      "execution_count": null,
      "outputs": []
    },
    {
      "cell_type": "code",
      "source": [
        "df = df.sort_values(by=['Date', 'ProductID']).reset_index(drop=True)\n"
      ],
      "metadata": {
        "id": "SaaY8eiHMHw5"
      },
      "execution_count": null,
      "outputs": []
    },
    {
      "cell_type": "code",
      "source": [
        "min_date = df['Date'].min()\n",
        "max_date = df['Date'].max()\n",
        "print(f\"Data spans from {min_date.date()} to {max_date.date()}\")\n"
      ],
      "metadata": {
        "colab": {
          "base_uri": "https://localhost:8080/"
        },
        "id": "7QjRFF8qMJ2b",
        "outputId": "e92f2661-c48b-40db-9a98-a83981d5d039"
      },
      "execution_count": null,
      "outputs": [
        {
          "output_type": "stream",
          "name": "stdout",
          "text": [
            "Data spans from 2023-01-02 to 2023-12-30\n"
          ]
        }
      ]
    },
    {
      "cell_type": "code",
      "source": [
        "train_end_date = pd.to_datetime('2023-10-31')\n",
        "val_end_date = pd.to_datetime('2023-11-30')\n",
        "test_end_date = pd.to_datetime('2023-12-31')\n"
      ],
      "metadata": {
        "id": "6Gcl4lkuMMAK"
      },
      "execution_count": null,
      "outputs": []
    },
    {
      "cell_type": "code",
      "source": [
        "# Training set\n",
        "train_data = df[df['Date'] <= train_end_date]\n",
        "\n",
        "# Validation set\n",
        "val_data = df[(df['Date'] > train_end_date) & (df['Date'] <= val_end_date)]\n",
        "\n",
        "# Testing set\n",
        "test_data = df[(df['Date'] > val_end_date) & (df['Date'] <= test_end_date)]\n"
      ],
      "metadata": {
        "id": "7S_3Lg6cMOLk"
      },
      "execution_count": null,
      "outputs": []
    },
    {
      "cell_type": "code",
      "source": [
        "print(f\"Training data from {train_data['Date'].min().date()} to {train_data['Date'].max().date()}\")\n",
        "print(f\"Validation data from {val_data['Date'].min().date()} to {val_data['Date'].max().date()}\")\n",
        "print(f\"Testing data from {test_data['Date'].min().date()} to {test_data['Date'].max().date()}\")\n",
        "\n",
        "print(f\"Training set size: {train_data.shape[0]} records\")\n",
        "print(f\"Validation set size: {val_data.shape[0]} records\")\n",
        "print(f\"Testing set size: {test_data.shape[0]} records\")\n"
      ],
      "metadata": {
        "colab": {
          "base_uri": "https://localhost:8080/"
        },
        "id": "i5lws2Z0MQje",
        "outputId": "f4f743d6-2009-4c26-df6b-7cad327d3b1e"
      },
      "execution_count": null,
      "outputs": [
        {
          "output_type": "stream",
          "name": "stdout",
          "text": [
            "Training data from 2023-01-02 to 2023-10-31\n",
            "Validation data from 2023-11-02 to 2023-11-27\n",
            "Testing data from 2023-12-02 to 2023-12-30\n",
            "Training set size: 443 records\n",
            "Validation set size: 26 records\n",
            "Testing set size: 15 records\n"
          ]
        }
      ]
    },
    {
      "cell_type": "markdown",
      "source": [
        "TRAINING THE **MODELs**"
      ],
      "metadata": {
        "id": "XnKi_QsvM0zB"
      }
    },
    {
      "cell_type": "code",
      "source": [
        "# Import necessary libraries\n",
        "import pandas as pd\n",
        "import numpy as np\n",
        "\n",
        "# For model training and evaluation\n",
        "from sklearn.model_selection import TimeSeriesSplit, RandomizedSearchCV\n",
        "from sklearn.metrics import mean_absolute_error, mean_squared_error\n",
        "\n",
        "# For Gradient Boosting\n",
        "from xgboost import XGBRegressor\n",
        "\n",
        "# For scaling numerical features (especially for neural networks)\n",
        "from sklearn.preprocessing import StandardScaler\n",
        "\n",
        "# For LSTM\n",
        "from tensorflow.keras.models import Sequential\n",
        "from tensorflow.keras.layers import LSTM, Dense, Dropout\n",
        "\n",
        "# For Prophet\n",
        "from prophet import Prophet\n",
        "\n",
        "# For plotting\n",
        "import matplotlib.pyplot as plt\n",
        "%matplotlib inline\n"
      ],
      "metadata": {
        "id": "NxH1uyS6M3fO"
      },
      "execution_count": null,
      "outputs": []
    },
    {
      "cell_type": "code",
      "source": [
        "# Combine training and validation data for scaling (if necessary)\n",
        "train_val_data = pd.concat([train_data, val_data], ignore_index=True)\n",
        "\n",
        "# Identify the target variable\n",
        "target = 'SalesVolume'\n",
        "\n",
        "# Identify features to use for modeling\n",
        "# Exclude non-feature columns like 'Date', 'ProductID', 'CustomerID', and the target variable\n",
        "excluded_columns = ['Date', 'ProductID', 'CustomerID', target]  # Adjust as needed\n",
        "features = [col for col in train_data.columns if col not in excluded_columns]\n",
        "\n",
        "# Check for missing values in features\n",
        "missing_features = train_val_data[features].isnull().sum()\n",
        "print(\"Missing values in features:\\n\", missing_features[missing_features > 0])\n"
      ],
      "metadata": {
        "colab": {
          "base_uri": "https://localhost:8080/"
        },
        "id": "RfZ_CibNM81p",
        "outputId": "25a6d5b8-c29a-4c1e-c4f2-f4662ecb7f26"
      },
      "execution_count": null,
      "outputs": [
        {
          "output_type": "stream",
          "name": "stdout",
          "text": [
            "Missing values in features:\n",
            " SalesVolume_Lag1              419\n",
            "SalesVolume_Lag7              469\n",
            "SalesVolume_Lag14             469\n",
            "SalesVolume_RollingMean_7     469\n",
            "SalesVolume_RollingStd_7      469\n",
            "SalesVolume_RollingMean_14    469\n",
            "SalesVolume_RollingStd_14     469\n",
            "dtype: int64\n"
          ]
        }
      ]
    },
    {
      "cell_type": "code",
      "source": [
        "# Identify numerical features\n",
        "numerical_features = train_val_data[features].select_dtypes(include=['int64', 'float64']).columns.tolist()\n",
        "print(\"Numerical Features:\", numerical_features)\n"
      ],
      "metadata": {
        "colab": {
          "base_uri": "https://localhost:8080/"
        },
        "id": "amgtV3NcNGHW",
        "outputId": "e20bd95c-fd5d-4433-92ad-1ea1b487f68e"
      },
      "execution_count": null,
      "outputs": [
        {
          "output_type": "stream",
          "name": "stdout",
          "text": [
            "Numerical Features: ['Year', 'Price', 'DiscountRate', 'InventoryLevel', 'ProductRating', 'ReviewCount', 'Revenue', 'MarketingSpend', 'CompetitorPrice', 'InflationRate', 'ConsumerConfidenceIndex', 'Temperature', 'Rainfall', 'CustomerAge', 'DayOfMonth', 'WeekOfYear', 'SalesVolume_Lag1', 'SalesVolume_Lag7', 'SalesVolume_Lag14', 'SalesVolume_RollingMean_7', 'SalesVolume_RollingStd_7', 'SalesVolume_RollingMean_14', 'SalesVolume_RollingStd_14', 'CustomerIncome_Encoded', 'Price_DiscountRate', 'Marketing_CompetitorPrice', 'InflationRate_Lag1', 'ConsumerConfidenceIndex_Lag1']\n"
          ]
        }
      ]
    },
    {
      "cell_type": "code",
      "source": [
        "# Initialize the scaler\n",
        "scaler = StandardScaler()\n",
        "\n",
        "# Fit the scaler on the training and validation data\n",
        "scaler.fit(train_val_data[numerical_features])\n",
        "\n",
        "# Transform the numerical features in training, validation, and test data\n",
        "train_val_data[numerical_features] = scaler.transform(train_val_data[numerical_features])\n",
        "test_data[numerical_features] = scaler.transform(test_data[numerical_features])\n"
      ],
      "metadata": {
        "colab": {
          "base_uri": "https://localhost:8080/"
        },
        "id": "SCKg79OhNICM",
        "outputId": "0b9723eb-58f3-412c-c6b9-e9c6f5fb3519"
      },
      "execution_count": null,
      "outputs": [
        {
          "output_type": "stream",
          "name": "stderr",
          "text": [
            "/usr/local/lib/python3.10/dist-packages/sklearn/utils/extmath.py:1050: RuntimeWarning: invalid value encountered in divide\n",
            "  updated_mean = (last_sum + new_sum) / updated_sample_count\n",
            "/usr/local/lib/python3.10/dist-packages/sklearn/utils/extmath.py:1055: RuntimeWarning: invalid value encountered in divide\n",
            "  T = new_sum / new_sample_count\n",
            "/usr/local/lib/python3.10/dist-packages/sklearn/utils/extmath.py:1075: RuntimeWarning: invalid value encountered in divide\n",
            "  new_unnormalized_variance -= correction**2 / new_sample_count\n",
            "<ipython-input-28-2d2ad7f81a8f>:9: SettingWithCopyWarning: \n",
            "A value is trying to be set on a copy of a slice from a DataFrame.\n",
            "Try using .loc[row_indexer,col_indexer] = value instead\n",
            "\n",
            "See the caveats in the documentation: https://pandas.pydata.org/pandas-docs/stable/user_guide/indexing.html#returning-a-view-versus-a-copy\n",
            "  test_data[numerical_features] = scaler.transform(test_data[numerical_features])\n"
          ]
        }
      ]
    },
    {
      "cell_type": "code",
      "source": [
        "# Features and target for training and validation data\n",
        "X_train_val = train_val_data[features]\n",
        "y_train_val = train_val_data[target]\n",
        "\n",
        "# Features and target for test data\n",
        "X_test = test_data[features]\n",
        "y_test = test_data[target]\n"
      ],
      "metadata": {
        "id": "7kD3PKNkNKIi"
      },
      "execution_count": null,
      "outputs": []
    },
    {
      "cell_type": "code",
      "source": [
        "# Define time series cross-validator\n",
        "tscv = TimeSeriesSplit(n_splits=5)\n"
      ],
      "metadata": {
        "id": "lEk4jyEqNMiY"
      },
      "execution_count": null,
      "outputs": []
    },
    {
      "cell_type": "code",
      "source": [
        "# Define hyperparameter grid\n",
        "param_grid = {\n",
        "    'n_estimators': [100, 200, 500],\n",
        "    'max_depth': [3, 5, 7],\n",
        "    'learning_rate': [0.01, 0.05, 0.1],\n",
        "    'subsample': [0.8, 1],\n",
        "    'colsample_bytree': [0.8, 1],\n",
        "    'reg_alpha': [0, 0.1, 0.5],\n",
        "    'reg_lambda': [1, 1.5, 2],\n",
        "}\n"
      ],
      "metadata": {
        "id": "g9ZVwyV6NPGm"
      },
      "execution_count": null,
      "outputs": []
    },
    {
      "cell_type": "code",
      "source": [
        "# Initialize XGBRegressor\n",
        "xgb_model = XGBRegressor(objective='reg:squarederror', random_state=42, n_jobs=-1)\n"
      ],
      "metadata": {
        "id": "NbRzijm1NRif"
      },
      "execution_count": null,
      "outputs": []
    },
    {
      "cell_type": "code",
      "source": [
        "# Set up RandomizedSearchCV\n",
        "random_search = RandomizedSearchCV(\n",
        "    estimator=xgb_model,\n",
        "    param_distributions=param_grid,\n",
        "    n_iter=50,  # Number of parameter settings that are sampled\n",
        "    scoring='neg_mean_absolute_error',\n",
        "    cv=tscv,\n",
        "    verbose=1,\n",
        "    random_state=42,\n",
        "    n_jobs=-1\n",
        ")\n"
      ],
      "metadata": {
        "id": "b1a4xdyvNTXU"
      },
      "execution_count": null,
      "outputs": []
    },
    {
      "cell_type": "code",
      "source": [
        "# List of categorical variables to encode\n",
        "categorical_vars = ['DayOfWeek', 'Month', 'Season', 'CustomerGender', 'CustomerLocation']\n",
        "\n",
        "# One-Hot Encode the categorical variables\n",
        "df_encoded = pd.get_dummies(df, columns=categorical_vars, drop_first=True)\n"
      ],
      "metadata": {
        "id": "oEyPAQoWNrJC"
      },
      "execution_count": null,
      "outputs": []
    },
    {
      "cell_type": "code",
      "source": [
        "# Exclude non-feature columns and the target variable\n",
        "excluded_columns = ['Date', 'ProductID', 'CustomerID', 'SalesVolume']  # Adjust as needed\n",
        "features = [col for col in df_encoded.columns if col not in excluded_columns]\n"
      ],
      "metadata": {
        "id": "nr4L0e9POJGI"
      },
      "execution_count": null,
      "outputs": []
    },
    {
      "cell_type": "code",
      "source": [
        "# Ensure the 'Date' column is in datetime format\n",
        "df_encoded['Date'] = pd.to_datetime(df_encoded['Date'])\n",
        "\n",
        "# Split the data into training/validation and test sets based on 'Date'\n",
        "train_val_data = df_encoded[df_encoded['Date'] <= val_end_date]\n",
        "test_data = df_encoded[df_encoded['Date'] > val_end_date]\n"
      ],
      "metadata": {
        "id": "-v6SD__UOLGD"
      },
      "execution_count": null,
      "outputs": []
    },
    {
      "cell_type": "code",
      "source": [
        "# Features and target for training and validation data\n",
        "X_train_val = train_val_data[features]\n",
        "y_train_val = train_val_data['SalesVolume']\n",
        "\n",
        "# Features and target for test data\n",
        "X_test = test_data[features]\n",
        "y_test = test_data['SalesVolume']\n"
      ],
      "metadata": {
        "id": "pqOtlb5DONXS"
      },
      "execution_count": null,
      "outputs": []
    },
    {
      "cell_type": "code",
      "source": [
        "# Check for missing values in features\n",
        "missing_features = X_train_val.isnull().sum()\n",
        "print(\"Missing values in features:\\n\", missing_features[missing_features > 0])\n",
        "\n",
        "# If missing values are found, fill them\n",
        "X_train_val = X_train_val.fillna(0)\n",
        "X_test = X_test.fillna(0)\n"
      ],
      "metadata": {
        "colab": {
          "base_uri": "https://localhost:8080/"
        },
        "id": "13NThq7nOPeJ",
        "outputId": "b534ebf1-c382-4715-beea-837baa5157fe"
      },
      "execution_count": null,
      "outputs": [
        {
          "output_type": "stream",
          "name": "stdout",
          "text": [
            "Missing values in features:\n",
            " SalesVolume_Lag1              419\n",
            "SalesVolume_Lag7              469\n",
            "SalesVolume_Lag14             469\n",
            "SalesVolume_RollingMean_7     469\n",
            "SalesVolume_RollingStd_7      469\n",
            "SalesVolume_RollingMean_14    469\n",
            "SalesVolume_RollingStd_14     469\n",
            "dtype: int64\n"
          ]
        }
      ]
    },
    {
      "cell_type": "code",
      "source": [
        "from sklearn.model_selection import TimeSeriesSplit, RandomizedSearchCV\n",
        "from xgboost import XGBRegressor\n",
        "\n",
        "# Define the TimeSeriesSplit object\n",
        "tscv = TimeSeriesSplit(n_splits=5)\n",
        "\n",
        "# Define the parameter grid for hyperparameter tuning\n",
        "param_grid = {\n",
        "    'n_estimators': [100, 200, 500],\n",
        "    'max_depth': [3, 5, 7],\n",
        "    'learning_rate': [0.01, 0.05, 0.1],\n",
        "    'subsample': [0.8, 1],\n",
        "    'colsample_bytree': [0.8, 1],\n",
        "    'reg_alpha': [0, 0.1, 0.5],\n",
        "    'reg_lambda': [1, 1.5, 2],\n",
        "}\n",
        "\n",
        "# Initialize the XGBoost Regressor\n",
        "xgb_model = XGBRegressor(objective='reg:squarederror', random_state=42, n_jobs=-1)\n"
      ],
      "metadata": {
        "id": "3Sq7alDlOR5Y"
      },
      "execution_count": null,
      "outputs": []
    },
    {
      "cell_type": "code",
      "source": [
        "random_search = RandomizedSearchCV(\n",
        "    estimator=xgb_model,\n",
        "    param_distributions=param_grid,\n",
        "    n_iter=50,\n",
        "    scoring='neg_mean_absolute_error',\n",
        "    cv=tscv,\n",
        "    verbose=1,\n",
        "    random_state=42,\n",
        "    n_jobs=-1\n",
        ")\n"
      ],
      "metadata": {
        "id": "7NbG2iKoOUI2"
      },
      "execution_count": null,
      "outputs": []
    },
    {
      "cell_type": "code",
      "source": [
        "# Fit the RandomizedSearchCV\n",
        "random_search.fit(X_train_val, y_train_val)\n"
      ],
      "metadata": {
        "colab": {
          "base_uri": "https://localhost:8080/",
          "height": 189
        },
        "id": "WuJAli9YOV5Q",
        "outputId": "52e0997b-ecd4-49d6-8a0e-d52efe5595a6"
      },
      "execution_count": null,
      "outputs": [
        {
          "output_type": "stream",
          "name": "stdout",
          "text": [
            "Fitting 5 folds for each of 50 candidates, totalling 250 fits\n"
          ]
        },
        {
          "output_type": "stream",
          "name": "stderr",
          "text": [
            "/usr/local/lib/python3.10/dist-packages/joblib/externals/loky/backend/fork_exec.py:38: RuntimeWarning: os.fork() was called. os.fork() is incompatible with multithreaded code, and JAX is multithreaded, so this will likely lead to a deadlock.\n",
            "  pid = os.fork()\n"
          ]
        },
        {
          "output_type": "execute_result",
          "data": {
            "text/plain": [
              "RandomizedSearchCV(cv=TimeSeriesSplit(gap=0, max_train_size=None, n_splits=5, test_size=None),\n",
              "                   estimator=XGBRegressor(base_score=None, booster=None,\n",
              "                                          callbacks=None,\n",
              "                                          colsample_bylevel=None,\n",
              "                                          colsample_bynode=None,\n",
              "                                          colsample_bytree=None, device=None,\n",
              "                                          early_stopping_rounds=None,\n",
              "                                          enable_categorical=False,\n",
              "                                          eval_metric=None, feature_types=None,\n",
              "                                          gamma=None, grow_policy=No...\n",
              "                                          multi_strategy=None,\n",
              "                                          n_estimators=None, n_jobs=-1,\n",
              "                                          num_parallel_tree=None,\n",
              "                                          random_state=42, ...),\n",
              "                   n_iter=50, n_jobs=-1,\n",
              "                   param_distributions={'colsample_bytree': [0.8, 1],\n",
              "                                        'learning_rate': [0.01, 0.05, 0.1],\n",
              "                                        'max_depth': [3, 5, 7],\n",
              "                                        'n_estimators': [100, 200, 500],\n",
              "                                        'reg_alpha': [0, 0.1, 0.5],\n",
              "                                        'reg_lambda': [1, 1.5, 2],\n",
              "                                        'subsample': [0.8, 1]},\n",
              "                   random_state=42, scoring='neg_mean_absolute_error',\n",
              "                   verbose=1)"
            ],
            "text/html": [
              "<style>#sk-container-id-1 {color: black;}#sk-container-id-1 pre{padding: 0;}#sk-container-id-1 div.sk-toggleable {background-color: white;}#sk-container-id-1 label.sk-toggleable__label {cursor: pointer;display: block;width: 100%;margin-bottom: 0;padding: 0.3em;box-sizing: border-box;text-align: center;}#sk-container-id-1 label.sk-toggleable__label-arrow:before {content: \"▸\";float: left;margin-right: 0.25em;color: #696969;}#sk-container-id-1 label.sk-toggleable__label-arrow:hover:before {color: black;}#sk-container-id-1 div.sk-estimator:hover label.sk-toggleable__label-arrow:before {color: black;}#sk-container-id-1 div.sk-toggleable__content {max-height: 0;max-width: 0;overflow: hidden;text-align: left;background-color: #f0f8ff;}#sk-container-id-1 div.sk-toggleable__content pre {margin: 0.2em;color: black;border-radius: 0.25em;background-color: #f0f8ff;}#sk-container-id-1 input.sk-toggleable__control:checked~div.sk-toggleable__content {max-height: 200px;max-width: 100%;overflow: auto;}#sk-container-id-1 input.sk-toggleable__control:checked~label.sk-toggleable__label-arrow:before {content: \"▾\";}#sk-container-id-1 div.sk-estimator input.sk-toggleable__control:checked~label.sk-toggleable__label {background-color: #d4ebff;}#sk-container-id-1 div.sk-label input.sk-toggleable__control:checked~label.sk-toggleable__label {background-color: #d4ebff;}#sk-container-id-1 input.sk-hidden--visually {border: 0;clip: rect(1px 1px 1px 1px);clip: rect(1px, 1px, 1px, 1px);height: 1px;margin: -1px;overflow: hidden;padding: 0;position: absolute;width: 1px;}#sk-container-id-1 div.sk-estimator {font-family: monospace;background-color: #f0f8ff;border: 1px dotted black;border-radius: 0.25em;box-sizing: border-box;margin-bottom: 0.5em;}#sk-container-id-1 div.sk-estimator:hover {background-color: #d4ebff;}#sk-container-id-1 div.sk-parallel-item::after {content: \"\";width: 100%;border-bottom: 1px solid gray;flex-grow: 1;}#sk-container-id-1 div.sk-label:hover label.sk-toggleable__label {background-color: #d4ebff;}#sk-container-id-1 div.sk-serial::before {content: \"\";position: absolute;border-left: 1px solid gray;box-sizing: border-box;top: 0;bottom: 0;left: 50%;z-index: 0;}#sk-container-id-1 div.sk-serial {display: flex;flex-direction: column;align-items: center;background-color: white;padding-right: 0.2em;padding-left: 0.2em;position: relative;}#sk-container-id-1 div.sk-item {position: relative;z-index: 1;}#sk-container-id-1 div.sk-parallel {display: flex;align-items: stretch;justify-content: center;background-color: white;position: relative;}#sk-container-id-1 div.sk-item::before, #sk-container-id-1 div.sk-parallel-item::before {content: \"\";position: absolute;border-left: 1px solid gray;box-sizing: border-box;top: 0;bottom: 0;left: 50%;z-index: -1;}#sk-container-id-1 div.sk-parallel-item {display: flex;flex-direction: column;z-index: 1;position: relative;background-color: white;}#sk-container-id-1 div.sk-parallel-item:first-child::after {align-self: flex-end;width: 50%;}#sk-container-id-1 div.sk-parallel-item:last-child::after {align-self: flex-start;width: 50%;}#sk-container-id-1 div.sk-parallel-item:only-child::after {width: 0;}#sk-container-id-1 div.sk-dashed-wrapped {border: 1px dashed gray;margin: 0 0.4em 0.5em 0.4em;box-sizing: border-box;padding-bottom: 0.4em;background-color: white;}#sk-container-id-1 div.sk-label label {font-family: monospace;font-weight: bold;display: inline-block;line-height: 1.2em;}#sk-container-id-1 div.sk-label-container {text-align: center;}#sk-container-id-1 div.sk-container {/* jupyter's `normalize.less` sets `[hidden] { display: none; }` but bootstrap.min.css set `[hidden] { display: none !important; }` so we also need the `!important` here to be able to override the default hidden behavior on the sphinx rendered scikit-learn.org. See: https://github.com/scikit-learn/scikit-learn/issues/21755 */display: inline-block !important;position: relative;}#sk-container-id-1 div.sk-text-repr-fallback {display: none;}</style><div id=\"sk-container-id-1\" class=\"sk-top-container\"><div class=\"sk-text-repr-fallback\"><pre>RandomizedSearchCV(cv=TimeSeriesSplit(gap=0, max_train_size=None, n_splits=5, test_size=None),\n",
              "                   estimator=XGBRegressor(base_score=None, booster=None,\n",
              "                                          callbacks=None,\n",
              "                                          colsample_bylevel=None,\n",
              "                                          colsample_bynode=None,\n",
              "                                          colsample_bytree=None, device=None,\n",
              "                                          early_stopping_rounds=None,\n",
              "                                          enable_categorical=False,\n",
              "                                          eval_metric=None, feature_types=None,\n",
              "                                          gamma=None, grow_policy=No...\n",
              "                                          multi_strategy=None,\n",
              "                                          n_estimators=None, n_jobs=-1,\n",
              "                                          num_parallel_tree=None,\n",
              "                                          random_state=42, ...),\n",
              "                   n_iter=50, n_jobs=-1,\n",
              "                   param_distributions={&#x27;colsample_bytree&#x27;: [0.8, 1],\n",
              "                                        &#x27;learning_rate&#x27;: [0.01, 0.05, 0.1],\n",
              "                                        &#x27;max_depth&#x27;: [3, 5, 7],\n",
              "                                        &#x27;n_estimators&#x27;: [100, 200, 500],\n",
              "                                        &#x27;reg_alpha&#x27;: [0, 0.1, 0.5],\n",
              "                                        &#x27;reg_lambda&#x27;: [1, 1.5, 2],\n",
              "                                        &#x27;subsample&#x27;: [0.8, 1]},\n",
              "                   random_state=42, scoring=&#x27;neg_mean_absolute_error&#x27;,\n",
              "                   verbose=1)</pre><b>In a Jupyter environment, please rerun this cell to show the HTML representation or trust the notebook. <br />On GitHub, the HTML representation is unable to render, please try loading this page with nbviewer.org.</b></div><div class=\"sk-container\" hidden><div class=\"sk-item sk-dashed-wrapped\"><div class=\"sk-label-container\"><div class=\"sk-label sk-toggleable\"><input class=\"sk-toggleable__control sk-hidden--visually\" id=\"sk-estimator-id-1\" type=\"checkbox\" ><label for=\"sk-estimator-id-1\" class=\"sk-toggleable__label sk-toggleable__label-arrow\">RandomizedSearchCV</label><div class=\"sk-toggleable__content\"><pre>RandomizedSearchCV(cv=TimeSeriesSplit(gap=0, max_train_size=None, n_splits=5, test_size=None),\n",
              "                   estimator=XGBRegressor(base_score=None, booster=None,\n",
              "                                          callbacks=None,\n",
              "                                          colsample_bylevel=None,\n",
              "                                          colsample_bynode=None,\n",
              "                                          colsample_bytree=None, device=None,\n",
              "                                          early_stopping_rounds=None,\n",
              "                                          enable_categorical=False,\n",
              "                                          eval_metric=None, feature_types=None,\n",
              "                                          gamma=None, grow_policy=No...\n",
              "                                          multi_strategy=None,\n",
              "                                          n_estimators=None, n_jobs=-1,\n",
              "                                          num_parallel_tree=None,\n",
              "                                          random_state=42, ...),\n",
              "                   n_iter=50, n_jobs=-1,\n",
              "                   param_distributions={&#x27;colsample_bytree&#x27;: [0.8, 1],\n",
              "                                        &#x27;learning_rate&#x27;: [0.01, 0.05, 0.1],\n",
              "                                        &#x27;max_depth&#x27;: [3, 5, 7],\n",
              "                                        &#x27;n_estimators&#x27;: [100, 200, 500],\n",
              "                                        &#x27;reg_alpha&#x27;: [0, 0.1, 0.5],\n",
              "                                        &#x27;reg_lambda&#x27;: [1, 1.5, 2],\n",
              "                                        &#x27;subsample&#x27;: [0.8, 1]},\n",
              "                   random_state=42, scoring=&#x27;neg_mean_absolute_error&#x27;,\n",
              "                   verbose=1)</pre></div></div></div><div class=\"sk-parallel\"><div class=\"sk-parallel-item\"><div class=\"sk-item\"><div class=\"sk-label-container\"><div class=\"sk-label sk-toggleable\"><input class=\"sk-toggleable__control sk-hidden--visually\" id=\"sk-estimator-id-2\" type=\"checkbox\" ><label for=\"sk-estimator-id-2\" class=\"sk-toggleable__label sk-toggleable__label-arrow\">estimator: XGBRegressor</label><div class=\"sk-toggleable__content\"><pre>XGBRegressor(base_score=None, booster=None, callbacks=None,\n",
              "             colsample_bylevel=None, colsample_bynode=None,\n",
              "             colsample_bytree=None, device=None, early_stopping_rounds=None,\n",
              "             enable_categorical=False, eval_metric=None, feature_types=None,\n",
              "             gamma=None, grow_policy=None, importance_type=None,\n",
              "             interaction_constraints=None, learning_rate=None, max_bin=None,\n",
              "             max_cat_threshold=None, max_cat_to_onehot=None,\n",
              "             max_delta_step=None, max_depth=None, max_leaves=None,\n",
              "             min_child_weight=None, missing=nan, monotone_constraints=None,\n",
              "             multi_strategy=None, n_estimators=None, n_jobs=-1,\n",
              "             num_parallel_tree=None, random_state=42, ...)</pre></div></div></div><div class=\"sk-serial\"><div class=\"sk-item\"><div class=\"sk-estimator sk-toggleable\"><input class=\"sk-toggleable__control sk-hidden--visually\" id=\"sk-estimator-id-3\" type=\"checkbox\" ><label for=\"sk-estimator-id-3\" class=\"sk-toggleable__label sk-toggleable__label-arrow\">XGBRegressor</label><div class=\"sk-toggleable__content\"><pre>XGBRegressor(base_score=None, booster=None, callbacks=None,\n",
              "             colsample_bylevel=None, colsample_bynode=None,\n",
              "             colsample_bytree=None, device=None, early_stopping_rounds=None,\n",
              "             enable_categorical=False, eval_metric=None, feature_types=None,\n",
              "             gamma=None, grow_policy=None, importance_type=None,\n",
              "             interaction_constraints=None, learning_rate=None, max_bin=None,\n",
              "             max_cat_threshold=None, max_cat_to_onehot=None,\n",
              "             max_delta_step=None, max_depth=None, max_leaves=None,\n",
              "             min_child_weight=None, missing=nan, monotone_constraints=None,\n",
              "             multi_strategy=None, n_estimators=None, n_jobs=-1,\n",
              "             num_parallel_tree=None, random_state=42, ...)</pre></div></div></div></div></div></div></div></div></div></div>"
            ]
          },
          "metadata": {},
          "execution_count": 41
        }
      ]
    },
    {
      "cell_type": "code",
      "source": [
        "# Use the best estimator to make predictions on test data\n",
        "best_model = random_search.best_estimator_\n",
        "y_pred_test = best_model.predict(X_test)\n",
        "\n",
        "# Calculate evaluation metrics\n",
        "from sklearn.metrics import mean_absolute_error, mean_squared_error\n",
        "mae_test = mean_absolute_error(y_test, y_pred_test)\n",
        "rmse_test = np.sqrt(mean_squared_error(y_test, y_pred_test))\n",
        "\n",
        "print(f\"Test MAE: {mae_test:.2f}\")\n",
        "print(f\"Test RMSE: {rmse_test:.2f}\")\n"
      ],
      "metadata": {
        "colab": {
          "base_uri": "https://localhost:8080/"
        },
        "id": "7zgx7_gYOvB6",
        "outputId": "4ff0f3dc-2034-4d60-c40f-480745ab51d7"
      },
      "execution_count": null,
      "outputs": [
        {
          "output_type": "stream",
          "name": "stdout",
          "text": [
            "Test MAE: 9.52\n",
            "Test RMSE: 17.88\n"
          ]
        }
      ]
    },
    {
      "cell_type": "code",
      "source": [
        "# Avoid division by zero in MAPE calculation\n",
        "y_test_nonzero = y_test.copy()\n",
        "y_test_nonzero[y_test_nonzero == 0] = 1e-8  # Replace zeros with a very small number\n",
        "\n",
        "# Calculate MAPE\n",
        "mape_test = np.mean(np.abs((y_test - y_pred_test) / y_test_nonzero)) * 100\n",
        "print(f\"Test MAPE: {mape_test:.2f}%\")\n"
      ],
      "metadata": {
        "colab": {
          "base_uri": "https://localhost:8080/"
        },
        "id": "wCSp__j9PULl",
        "outputId": "3db2c571-d260-4f3a-b7a3-8d4c92d13a33"
      },
      "execution_count": null,
      "outputs": [
        {
          "output_type": "stream",
          "name": "stdout",
          "text": [
            "Test MAPE: 18.35%\n"
          ]
        }
      ]
    },
    {
      "cell_type": "code",
      "source": [
        "df_encoded.columns\n"
      ],
      "metadata": {
        "colab": {
          "base_uri": "https://localhost:8080/"
        },
        "id": "amRqVAUxqDCW",
        "outputId": "626b27d8-f7ab-49b4-d5cb-42bf55490662"
      },
      "execution_count": null,
      "outputs": [
        {
          "output_type": "execute_result",
          "data": {
            "text/plain": [
              "Index(['Date', 'Year', 'ProductID', 'Price', 'DiscountRate', 'InventoryLevel',\n",
              "       'ProductRating', 'ReviewCount', 'SalesVolume', 'Revenue',\n",
              "       'MarketingSpend', 'CompetitorPrice', 'InflationRate',\n",
              "       'ConsumerConfidenceIndex', 'Temperature', 'Rainfall', 'CustomerAge',\n",
              "       'DayOfMonth', 'WeekOfYear', 'IsWeekend', 'IsEventDay',\n",
              "       'SalesVolume_Lag1', 'SalesVolume_Lag7', 'SalesVolume_Lag14',\n",
              "       'SalesVolume_RollingMean_7', 'SalesVolume_RollingStd_7',\n",
              "       'SalesVolume_RollingMean_14', 'SalesVolume_RollingStd_14',\n",
              "       'ProductCategory_Beauty Products', 'ProductCategory_Electronics',\n",
              "       'ProductCategory_Fashion', 'ProductCategory_Footwear',\n",
              "       'ProductCategory_Grocery', 'ProductCategory_Home Decor',\n",
              "       'ProductCategory_Jewelry', 'ProductCategory_Kitchen Appliances',\n",
              "       'ProductCategory_Sports Equipment', 'ProductCategory_Toys',\n",
              "       'ProductCategory_Traditional Wear', 'CustomerSegment_Frequent Buyer',\n",
              "       'CustomerSegment_Occasional Buyer', 'CustomerSegment_Occasional Buyer ',\n",
              "       'Event_FSMS', 'Event_MBS', 'Event_MDS', 'CustomerIncome_Encoded',\n",
              "       'Price_DiscountRate', 'Marketing_CompetitorPrice', 'InflationRate_Lag1',\n",
              "       'ConsumerConfidenceIndex_Lag1', 'DayOfWeek_Monday',\n",
              "       'DayOfWeek_Saturday', 'DayOfWeek_Sunday', 'DayOfWeek_Thursday',\n",
              "       'DayOfWeek_Tuesday', 'DayOfWeek_Wednesday', 'Month_August',\n",
              "       'Month_December', 'Month_February', 'Month_January', 'Month_July',\n",
              "       'Month_June', 'Month_March', 'Month_May', 'Month_November',\n",
              "       'Month_October', 'Month_September', 'Season_Spring', 'Season_Summer',\n",
              "       'Season_Winter', 'CustomerGender_Male', 'CustomerLocation_Suburban',\n",
              "       'CustomerLocation_Urban'],\n",
              "      dtype='object')"
            ]
          },
          "metadata": {},
          "execution_count": 44
        }
      ]
    },
    {
      "cell_type": "code",
      "source": [
        "import pandas as pd\n",
        "import numpy as np\n",
        "from xgboost import XGBRegressor\n",
        "from sklearn.metrics import mean_absolute_error, mean_squared_error\n",
        "from sklearn.model_selection import TimeSeriesSplit, RandomizedSearchCV\n",
        "import matplotlib.pyplot as plt\n",
        "\n",
        "# Load the encoded dataset\n",
        "df_encoded = pd.read_csv('new.csv')\n",
        "\n",
        "# Convert 'Date' column to datetime\n",
        "df_encoded['Date'] = pd.to_datetime(df_encoded['Date'])\n",
        "\n",
        "# Sort by Date and ProductID\n",
        "df_encoded = df_encoded.sort_values(by=['Date', 'ProductID']).reset_index(drop=True)\n",
        "\n",
        "# Define the end dates for train, validation, and test\n",
        "train_end_date = pd.to_datetime('2023-10-31')\n",
        "val_end_date = pd.to_datetime('2023-11-30')\n",
        "test_end_date = pd.to_datetime('2023-12-31')\n",
        "\n",
        "# Split data into training, validation, and test sets\n",
        "train_data = df_encoded[df_encoded['Date'] <= train_end_date]\n",
        "val_data = df_encoded[(df_encoded['Date'] > train_end_date) & (df_encoded['Date'] <= val_end_date)]\n",
        "test_data = df_encoded[(df_encoded['Date'] > val_end_date) & (df_encoded['Date'] <= test_end_date)]\n",
        "\n",
        "# Identify the target variable and features\n",
        "target = 'SalesVolume'\n",
        "excluded_columns = ['Date', 'ProductID', 'CustomerID', target]\n",
        "features = [col for col in train_data.columns if col not in excluded_columns]\n",
        "\n",
        "# Combine training and validation data for scaling (if necessary)\n",
        "train_val_data = pd.concat([train_data, val_data], ignore_index=True)\n",
        "\n",
        "# Convert categorical features to category dtype for XGBoost\n",
        "categorical_features = ['DayOfWeek', 'Month', 'Season', 'CustomerGender', 'CustomerLocation']\n",
        "for col in categorical_features:\n",
        "    train_val_data[col] = train_val_data[col].astype('category')\n",
        "    test_data[col] = test_data[col].astype('category')\n",
        "\n",
        "# Extract features and target\n",
        "X_train_val = train_val_data[features]\n",
        "y_train_val = train_val_data[target]\n",
        "X_test = test_data[features]\n",
        "y_test = test_data[target]\n",
        "\n",
        "# Define time series cross-validator\n",
        "tscv = TimeSeriesSplit(n_splits=5)\n",
        "\n",
        "# Initialize XGBRegressor with the best parameters (assuming random search has been performed)\n",
        "best_params = random_search.best_params_\n",
        "xgb_model = XGBRegressor(objective='reg:squarederror', random_state=42, n_jobs=-1, enable_categorical=True, **best_params)\n",
        "\n",
        "# Fit the model on training and validation data\n",
        "xgb_model.fit(X_train_val, y_train_val)\n",
        "\n",
        "# Make predictions on the test data\n",
        "y_pred_test = xgb_model.predict(X_test)\n",
        "\n",
        "# Evaluate the model performance\n",
        "mae_test = mean_absolute_error(y_test, y_pred_test)\n",
        "rmse_test = np.sqrt(mean_squared_error(y_test, y_pred_test))\n",
        "mape_test = np.mean(np.abs((y_test - y_pred_test) / y_test)) * 100\n",
        "\n",
        "print(f\"Test MAE: {mae_test:.2f}\")\n",
        "print(f\"Test RMSE: {rmse_test:.2f}\")\n",
        "print(f\"Test MAPE: {mape_test:.2f}%\")\n",
        "\n",
        "# Plot actual vs predicted sales\n",
        "plt.figure(figsize=(10, 6))\n",
        "plt.plot(test_data['Date'], y_test, label='Actual Sales')\n",
        "plt.plot(test_data['Date'], y_pred_test, label='Predicted Sales', linestyle='--')\n",
        "plt.xlabel('Date')\n",
        "plt.ylabel('Sales Volume')\n",
        "plt.title('Actual vs Predicted Sales Volume')\n",
        "plt.legend()\n",
        "plt.show()\n"
      ],
      "metadata": {
        "colab": {
          "base_uri": "https://localhost:8080/",
          "height": 1000
        },
        "id": "oFQmpVsLsTEu",
        "outputId": "23b82e37-6153-48e0-8baa-b92504565305"
      },
      "execution_count": null,
      "outputs": [
        {
          "output_type": "stream",
          "name": "stderr",
          "text": [
            "<ipython-input-45-462023975611>:39: SettingWithCopyWarning: \n",
            "A value is trying to be set on a copy of a slice from a DataFrame.\n",
            "Try using .loc[row_indexer,col_indexer] = value instead\n",
            "\n",
            "See the caveats in the documentation: https://pandas.pydata.org/pandas-docs/stable/user_guide/indexing.html#returning-a-view-versus-a-copy\n",
            "  test_data[col] = test_data[col].astype('category')\n",
            "<ipython-input-45-462023975611>:39: SettingWithCopyWarning: \n",
            "A value is trying to be set on a copy of a slice from a DataFrame.\n",
            "Try using .loc[row_indexer,col_indexer] = value instead\n",
            "\n",
            "See the caveats in the documentation: https://pandas.pydata.org/pandas-docs/stable/user_guide/indexing.html#returning-a-view-versus-a-copy\n",
            "  test_data[col] = test_data[col].astype('category')\n",
            "<ipython-input-45-462023975611>:39: SettingWithCopyWarning: \n",
            "A value is trying to be set on a copy of a slice from a DataFrame.\n",
            "Try using .loc[row_indexer,col_indexer] = value instead\n",
            "\n",
            "See the caveats in the documentation: https://pandas.pydata.org/pandas-docs/stable/user_guide/indexing.html#returning-a-view-versus-a-copy\n",
            "  test_data[col] = test_data[col].astype('category')\n",
            "<ipython-input-45-462023975611>:39: SettingWithCopyWarning: \n",
            "A value is trying to be set on a copy of a slice from a DataFrame.\n",
            "Try using .loc[row_indexer,col_indexer] = value instead\n",
            "\n",
            "See the caveats in the documentation: https://pandas.pydata.org/pandas-docs/stable/user_guide/indexing.html#returning-a-view-versus-a-copy\n",
            "  test_data[col] = test_data[col].astype('category')\n",
            "<ipython-input-45-462023975611>:39: SettingWithCopyWarning: \n",
            "A value is trying to be set on a copy of a slice from a DataFrame.\n",
            "Try using .loc[row_indexer,col_indexer] = value instead\n",
            "\n",
            "See the caveats in the documentation: https://pandas.pydata.org/pandas-docs/stable/user_guide/indexing.html#returning-a-view-versus-a-copy\n",
            "  test_data[col] = test_data[col].astype('category')\n"
          ]
        },
        {
          "output_type": "stream",
          "name": "stdout",
          "text": [
            "Test MAE: 14.38\n",
            "Test RMSE: 20.58\n",
            "Test MAPE: 24.01%\n"
          ]
        },
        {
          "output_type": "display_data",
          "data": {
            "text/plain": [
              "<Figure size 1000x600 with 1 Axes>"
            ],
            "image/png": "[encoded data removed]"
          },
          "metadata": {}
        }
      ]
    },
    {
      "cell_type": "code",
      "source": [
        "import numpy as np\n",
        "from scipy.stats import norm\n",
        "\n",
        "# Calculate the forecast errors\n",
        "forecast_errors = y_test - y_pred_test\n",
        "\n",
        "# Calculate the standard deviation of forecast errors\n",
        "std_forecast_error = np.std(forecast_errors)\n",
        "\n",
        "# Desired service level (e.g., 95%)\n",
        "service_level = 0.95\n",
        "\n",
        "# Z-score for the desired service level\n",
        "z_score = norm.ppf(service_level)\n",
        "\n",
        "# Safety Stock Calculation\n",
        "safety_stock = z_score * std_forecast_error\n",
        "\n",
        "print(f\"Safety Stock: {safety_stock:.2f}\")\n"
      ],
      "metadata": {
        "id": "JS17S9oNyhQI",
        "colab": {
          "base_uri": "https://localhost:8080/"
        },
        "outputId": "e1c06442-4357-4efc-ad71-ac88c0676591"
      },
      "execution_count": null,
      "outputs": [
        {
          "output_type": "stream",
          "name": "stdout",
          "text": [
            "Safety Stock: 27.98\n"
          ]
        }
      ]
    },
    {
      "cell_type": "code",
      "source": [
        "# Assume a lead time in days (e.g., 7 days)\n",
        "lead_time_days = 7\n",
        "\n",
        "# Calculate the daily forecasted demand\n",
        "daily_forecasted_demand = y_pred_test.mean()\n",
        "\n",
        "# Lead Time Demand Calculation\n",
        "lead_time_demand = lead_time_days * daily_forecasted_demand\n",
        "\n",
        "# Reorder Point Calculation\n",
        "reorder_point = lead_time_demand + safety_stock\n",
        "\n",
        "print(f\"Reorder Point: {reorder_point:.2f}\")\n"
      ],
      "metadata": {
        "colab": {
          "base_uri": "https://localhost:8080/"
        },
        "id": "GeD88jssS8d-",
        "outputId": "21321f6f-27e5-453a-8186-60335ba140cd"
      },
      "execution_count": null,
      "outputs": [
        {
          "output_type": "stream",
          "name": "stdout",
          "text": [
            "Reorder Point: 382.79\n"
          ]
        }
      ]
    },
    {
      "cell_type": "code",
      "source": [
        "# Total Inventory Calculation\n",
        "total_inventory = np.sum(y_pred_test) + safety_stock\n",
        "\n",
        "print(f\"Total Inventory Needed: {total_inventory:.2f}\")\n"
      ],
      "metadata": {
        "colab": {
          "base_uri": "https://localhost:8080/"
        },
        "id": "8eQyMDvZS_AQ",
        "outputId": "7c4c8da6-7029-4d3e-99d4-be67887cd07b"
      },
      "execution_count": null,
      "outputs": [
        {
          "output_type": "stream",
          "name": "stdout",
          "text": [
            "Total Inventory Needed: 788.30\n"
          ]
        }
      ]
    },
    {
      "cell_type": "code",
      "source": [
        "# Example constraint values\n",
        "supplier_capacity = 5000  # Maximum units the supplier can provide\n",
        "budget_limit = 100000  # Budget limit in currency units\n",
        "\n",
        "# Assume the cost per unit is 10 (for example)\n",
        "cost_per_unit = 10\n",
        "\n",
        "# Adjust for Supplier Capacity\n",
        "adjusted_inventory = min(total_inventory, supplier_capacity)\n",
        "\n",
        "# Calculate the cost of the adjusted inventory\n",
        "inventory_cost = adjusted_inventory * cost_per_unit\n",
        "\n",
        "# Adjust for Budget Constraints\n",
        "if inventory_cost > budget_limit:\n",
        "    adjusted_inventory = budget_limit / cost_per_unit\n",
        "\n",
        "print(f\"Adjusted Inventory: {adjusted_inventory:.2f} units based on supplier capacity and budget constraints.\")\n"
      ],
      "metadata": {
        "colab": {
          "base_uri": "https://localhost:8080/"
        },
        "id": "yandhCwGTDHT",
        "outputId": "9d9174b2-826e-4a2b-9147-9520464bc193"
      },
      "execution_count": null,
      "outputs": [
        {
          "output_type": "stream",
          "name": "stdout",
          "text": [
            "Adjusted Inventory: 788.30 units based on supplier capacity and budget constraints.\n"
          ]
        }
      ]
    },
    {
      "cell_type": "code",
      "source": [
        "import pandas as pd\n",
        "import numpy as np\n",
        "\n",
        "# Create the Inventory Projection Table DataFrame\n",
        "inventory_projection = pd.DataFrame({\n",
        "    'Date': test_data['Date'],\n",
        "    'ProductID': test_data['ProductID'],\n",
        "    'Forecasted Sales Volume': y_pred_test,\n",
        "    'Safety Stock': safety_stock,\n",
        "    'Total Inventory Needed': y_pred_test + safety_stock\n",
        "})\n",
        "\n",
        "# Add Event Indicator\n",
        "# Assuming you have a way to determine events from the 'Date' column\n",
        "inventory_projection['Event Indicator'] = np.where(\n",
        "    inventory_projection['Date'].isin(event_days),\n",
        "    'Event',\n",
        "    'BAU'\n",
        ")\n",
        "\n",
        "# Display the Inventory Projection Table\n",
        "print(inventory_projection.head())\n"
      ],
      "metadata": {
        "colab": {
          "base_uri": "https://localhost:8080/"
        },
        "id": "eklkhvSSTRAq",
        "outputId": "dd3c7933-23da-424b-8428-abab002b88ef"
      },
      "execution_count": null,
      "outputs": [
        {
          "output_type": "stream",
          "name": "stdout",
          "text": [
            "          Date ProductID  Forecasted Sales Volume  Safety Stock  \\\n",
            "469 2023-12-02     P5292                44.015930     27.976939   \n",
            "470 2023-12-03     P2041                35.145390     27.976939   \n",
            "471 2023-12-03     P2042                81.827316     27.976939   \n",
            "472 2023-12-03     P2043                50.075062     27.976939   \n",
            "473 2023-12-03     P2044               203.545914     27.976939   \n",
            "\n",
            "     Total Inventory Needed Event Indicator  \n",
            "469               71.992867             BAU  \n",
            "470               63.122330           Event  \n",
            "471              109.804253           Event  \n",
            "472               78.052002           Event  \n",
            "473              231.522858           Event  \n"
          ]
        }
      ]
    },
    {
      "cell_type": "code",
      "source": [
        "# Define the event days explicitly for each event\n",
        "fsms_days = pd.to_datetime(['2023-12-02'])  # Correct FSMS date\n",
        "mbs_days = pd.to_datetime(['2023-12-03'])  # Correct MBS date\n",
        "mds_days = pd.to_datetime(['2023-12-24'])  # Correct MDS date\n",
        "\n",
        "# Create a new Event Indicator column with default value 'BAU'\n",
        "inventory_projection['Event Indicator'] = 'BAU'\n",
        "\n",
        "# Set the correct event labels for each event day\n",
        "inventory_projection.loc[inventory_projection['Date'].isin(fsms_days), 'Event Indicator'] = 'FSMS'\n",
        "inventory_projection.loc[inventory_projection['Date'].isin(mbs_days), 'Event Indicator'] = 'MBS'\n",
        "inventory_projection.loc[inventory_projection['Date'].isin(mds_days), 'Event Indicator'] = 'MDS'\n",
        "\n",
        "# Display the updated Inventory Projection Table\n",
        "print(inventory_projection.head())\n"
      ],
      "metadata": {
        "colab": {
          "base_uri": "https://localhost:8080/"
        },
        "id": "_qxQYzh_TRcc",
        "outputId": "4c04aa17-3a5f-424d-9575-143a9ea12af0"
      },
      "execution_count": null,
      "outputs": [
        {
          "output_type": "stream",
          "name": "stdout",
          "text": [
            "          Date ProductID  Forecasted Sales Volume  Safety Stock  \\\n",
            "469 2023-12-02     P5292                44.015930     27.976939   \n",
            "470 2023-12-03     P2041                35.145390     27.976939   \n",
            "471 2023-12-03     P2042                81.827316     27.976939   \n",
            "472 2023-12-03     P2043                50.075062     27.976939   \n",
            "473 2023-12-03     P2044               203.545914     27.976939   \n",
            "\n",
            "     Total Inventory Needed Event Indicator  \n",
            "469               71.992867            FSMS  \n",
            "470               63.122330             MBS  \n",
            "471              109.804253             MBS  \n",
            "472               78.052002             MBS  \n",
            "473              231.522858             MBS  \n"
          ]
        }
      ]
    },
    {
      "cell_type": "code",
      "source": [
        "# Segmentation by Event\n",
        "bau_projection = inventory_projection[inventory_projection['Event Indicator'] == 'BAU']\n",
        "fsms_projection = inventory_projection[inventory_projection['Date'].isin(fsms_days)]\n",
        "mbs_projection = inventory_projection[inventory_projection['Date'].isin(mbs_days)]\n",
        "mds_projection = inventory_projection[inventory_projection['Date'].isin(mds_days)]\n",
        "\n",
        "# Display Segmented Tables\n",
        "print(\"BAU Projection\")\n",
        "print(bau_projection.head())\n",
        "\n",
        "print(\"\\nFSMS Projection\")\n",
        "print(fsms_projection.head())\n",
        "\n",
        "print(\"\\nMBS Projection\")\n",
        "print(mbs_projection.head())\n",
        "\n",
        "print(\"\\nMDS Projection\")\n",
        "print(mds_projection.head())\n"
      ],
      "metadata": {
        "colab": {
          "base_uri": "https://localhost:8080/"
        },
        "id": "BwGZk0M6TqWp",
        "outputId": "9e940681-42f8-434a-fe1f-7cc2c42a22f9"
      },
      "execution_count": null,
      "outputs": [
        {
          "output_type": "stream",
          "name": "stdout",
          "text": [
            "BAU Projection\n",
            "          Date ProductID  Forecasted Sales Volume  Safety Stock  \\\n",
            "481 2023-12-26     P5325                11.186456     27.976939   \n",
            "482 2023-12-29     P5303                 6.274678     27.976939   \n",
            "483 2023-12-30     P5280                15.538424     27.976939   \n",
            "\n",
            "     Total Inventory Needed Event Indicator  \n",
            "481               39.163395             BAU  \n",
            "482               34.251617             BAU  \n",
            "483               43.515362             BAU  \n",
            "\n",
            "FSMS Projection\n",
            "          Date ProductID  Forecasted Sales Volume  Safety Stock  \\\n",
            "469 2023-12-02     P5292                 44.01593     27.976939   \n",
            "\n",
            "     Total Inventory Needed Event Indicator  \n",
            "469               71.992867            FSMS  \n",
            "\n",
            "MBS Projection\n",
            "          Date ProductID  Forecasted Sales Volume  Safety Stock  \\\n",
            "470 2023-12-03     P2041                35.145390     27.976939   \n",
            "471 2023-12-03     P2042                81.827316     27.976939   \n",
            "472 2023-12-03     P2043                50.075062     27.976939   \n",
            "473 2023-12-03     P2044               203.545914     27.976939   \n",
            "474 2023-12-03     P2045                24.373270     27.976939   \n",
            "\n",
            "     Total Inventory Needed Event Indicator  \n",
            "470               63.122330             MBS  \n",
            "471              109.804253             MBS  \n",
            "472               78.052002             MBS  \n",
            "473              231.522858             MBS  \n",
            "474               52.350208             MBS  \n",
            "\n",
            "MDS Projection\n",
            "          Date ProductID  Forecasted Sales Volume  Safety Stock  \\\n",
            "480 2023-12-24     P5314                19.689791     27.976939   \n",
            "\n",
            "     Total Inventory Needed Event Indicator  \n",
            "480               47.666729             MDS  \n"
          ]
        }
      ]
    },
    {
      "cell_type": "code",
      "source": [
        "# Display all unique dates in your dataset to find the correct event dates\n",
        "print(\"All Unique Dates in Dataset:\\n\", inventory_projection['Date'].unique())\n"
      ],
      "metadata": {
        "colab": {
          "base_uri": "https://localhost:8080/"
        },
        "id": "cktRmCeiVIk8",
        "outputId": "87512db8-39ee-44ea-acb4-0b28461850d4"
      },
      "execution_count": null,
      "outputs": [
        {
          "output_type": "stream",
          "name": "stdout",
          "text": [
            "All Unique Dates in Dataset:\n",
            " <DatetimeArray>\n",
            "['2023-12-02 00:00:00', '2023-12-03 00:00:00', '2023-12-24 00:00:00',\n",
            " '2023-12-26 00:00:00', '2023-12-29 00:00:00', '2023-12-30 00:00:00']\n",
            "Length: 6, dtype: datetime64[ns]\n"
          ]
        }
      ]
    },
    {
      "cell_type": "code",
      "source": [
        "# Check which dates matched as events\n",
        "print(\"Dates marked as FSMS:\", inventory_projection[inventory_projection['Date'].isin(fsms_days)])\n",
        "print(\"Dates marked as MBS:\", inventory_projection[inventory_projection['Date'].isin(mbs_days)])\n",
        "print(\"Dates marked as MDS:\", inventory_projection[inventory_projection['Date'].isin(mds_days)])\n"
      ],
      "metadata": {
        "colab": {
          "base_uri": "https://localhost:8080/"
        },
        "id": "JBmlcb1KUsDv",
        "outputId": "234eb62c-079a-438b-ffb7-790a1499a794"
      },
      "execution_count": null,
      "outputs": [
        {
          "output_type": "stream",
          "name": "stdout",
          "text": [
            "Dates marked as FSMS:           Date ProductID  Forecasted Sales Volume  Safety Stock  \\\n",
            "469 2023-12-02     P5292                 44.01593     27.976939   \n",
            "\n",
            "     Total Inventory Needed Event Indicator  \n",
            "469               71.992867            FSMS  \n",
            "Dates marked as MBS:           Date ProductID  Forecasted Sales Volume  Safety Stock  \\\n",
            "470 2023-12-03     P2041                35.145390     27.976939   \n",
            "471 2023-12-03     P2042                81.827316     27.976939   \n",
            "472 2023-12-03     P2043                50.075062     27.976939   \n",
            "473 2023-12-03     P2044               203.545914     27.976939   \n",
            "474 2023-12-03     P2045                24.373270     27.976939   \n",
            "475 2023-12-03     P2046                78.058846     27.976939   \n",
            "476 2023-12-03     P2047                56.436172     27.976939   \n",
            "477 2023-12-03     P2048                57.515465     27.976939   \n",
            "478 2023-12-03     P2049                31.496519     27.976939   \n",
            "479 2023-12-03     P2050                45.139908     27.976939   \n",
            "\n",
            "     Total Inventory Needed Event Indicator  \n",
            "470               63.122330             MBS  \n",
            "471              109.804253             MBS  \n",
            "472               78.052002             MBS  \n",
            "473              231.522858             MBS  \n",
            "474               52.350208             MBS  \n",
            "475              106.035782             MBS  \n",
            "476               84.413109             MBS  \n",
            "477               85.492401             MBS  \n",
            "478               59.473457             MBS  \n",
            "479               73.116844             MBS  \n",
            "Dates marked as MDS:           Date ProductID  Forecasted Sales Volume  Safety Stock  \\\n",
            "480 2023-12-24     P5314                19.689791     27.976939   \n",
            "\n",
            "     Total Inventory Needed Event Indicator  \n",
            "480               47.666729             MDS  \n"
          ]
        }
      ]
    },
    {
      "cell_type": "code",
      "source": [
        "import matplotlib.pyplot as plt\n",
        "import pandas as pd\n",
        "\n",
        "# Sample Data\n",
        "dates = pd.date_range(start='2023-12-01', end='2023-12-31', freq='D')\n",
        "forecasted_sales = [10, 15, 20, 25, 30, 35, 28, 22, 18, 15, 12, 10, 8, 12, 15, 18, 20, 25, 30, 35, 40, 38, 32, 28, 25, 20, 15, 10, 8, 5, 2]\n",
        "\n",
        "plt.figure(figsize=(10, 6))\n",
        "plt.plot(dates, forecasted_sales, label='Forecasted Sales Volume', marker='o')\n",
        "plt.fill_between(dates, [x - 5 for x in forecasted_sales], [x + 5 for x in forecasted_sales], alpha=0.2, color='gray', label='Confidence Interval')\n",
        "plt.axvline(x=pd.to_datetime('2023-12-10'), color='red', linestyle='--', label='FSMS Event')\n",
        "plt.axvline(x=pd.to_datetime('2023-12-20'), color='blue', linestyle='--', label='MBS Event')\n",
        "plt.axvline(x=pd.to_datetime('2023-12-24'), color='green', linestyle='--', label='MDS Event')\n",
        "plt.xlabel('Date')\n",
        "plt.ylabel('Sales Volume')\n",
        "plt.title('Demand Forecast Chart')\n",
        "plt.legend()\n",
        "plt.grid(True)\n",
        "plt.show()\n"
      ],
      "metadata": {
        "colab": {
          "base_uri": "https://localhost:8080/",
          "height": 564
        },
        "id": "83qQUIQCYKWY",
        "outputId": "871cdeba-ef7d-40ac-90ed-12d120ab1f86"
      },
      "execution_count": null,
      "outputs": [
        {
          "output_type": "display_data",
          "data": {
            "text/plain": [
              "<Figure size 1000x600 with 1 Axes>"
            ],
            "image/png": "[encoded data removed]"
          },
          "metadata": {}
        }
      ]
    },
    {
      "cell_type": "code",
      "source": [
        "import matplotlib.pyplot as plt\n",
        "import pandas as pd\n",
        "\n",
        "# Convert 'Date' column to datetime\n",
        "df['Date'] = pd.to_datetime(df['Date'])\n",
        "\n",
        "# Calculate forecasted sales volumes\n",
        "df['Forecasted Sales Volume'] = df['Price'] * (1 - df['DiscountRate'] / 100)  # Simplified assumption for illustration\n",
        "\n",
        "# Group by Date and sum up the sales volume\n",
        "daily_forecast = df.groupby('Date')['Forecasted Sales Volume'].sum().reset_index()\n",
        "\n",
        "# Define event dates from the data\n",
        "event_days = df[df['Event'] != 'BAU']['Date'].unique()\n",
        "fsms_days = df[df['Event'] == 'FSMS']['Date'].unique()\n",
        "mbs_days = df[df['Event'] == 'MBS']['Date'].unique()\n",
        "mds_days = df[df['Event'] == 'MDS']['Date'].unique()\n",
        "\n",
        "# Plotting the Demand Forecast Chart with Event Indicators\n",
        "plt.figure(figsize=(12, 6))\n",
        "plt.plot(daily_forecast['Date'], daily_forecast['Forecasted Sales Volume'], label='Forecasted Sales Volume', marker='o')\n",
        "plt.fill_between(daily_forecast['Date'],\n",
        "                 daily_forecast['Forecasted Sales Volume'] - 5,\n",
        "                 daily_forecast['Forecasted Sales Volume'] + 5, alpha=0.2, color='gray', label='Confidence Interval')\n",
        "\n",
        "# Add vertical lines for event markers\n",
        "for event_date in fsms_days:\n",
        "    plt.axvline(x=event_date, color='red', linestyle='--', label='FSMS Event' if event_date == fsms_days[0] else \"\")\n",
        "for event_date in mbs_days:\n",
        "    plt.axvline(x=event_date, color='blue', linestyle='--', label='MBS Event' if event_date == mbs_days[0] else \"\")\n",
        "for event_date in mds_days:\n",
        "    plt.axvline(x=event_date, color='green', linestyle='--', label='MDS Event' if event_date == mds_days[0] else \"\")\n",
        "\n",
        "plt.xlabel('Date')\n",
        "plt.ylabel('Sales Volume')\n",
        "plt.title('Demand Forecast Chart with Event Indicators')\n",
        "plt.legend()\n",
        "plt.grid(True)\n",
        "plt.show()\n"
      ],
      "metadata": {
        "colab": {
          "base_uri": "https://localhost:8080/",
          "height": 547
        },
        "id": "kgPHO3N6Y6R-",
        "outputId": "332652b6-1f67-48f0-f1d2-6719e17e38ca"
      },
      "execution_count": null,
      "outputs": [
        {
          "output_type": "error",
          "ename": "KeyError",
          "evalue": "'Event'",
          "traceback": [
            "\u001b[0;31m---------------------------------------------------------------------------\u001b[0m",
            "\u001b[0;31mKeyError\u001b[0m                                  Traceback (most recent call last)",
            "\u001b[0;32m/usr/local/lib/python3.10/dist-packages/pandas/core/indexes/base.py\u001b[0m in \u001b[0;36mget_loc\u001b[0;34m(self, key)\u001b[0m\n\u001b[1;32m   3790\u001b[0m         \u001b[0;32mtry\u001b[0m\u001b[0;34m:\u001b[0m\u001b[0;34m\u001b[0m\u001b[0;34m\u001b[0m\u001b[0m\n\u001b[0;32m-> 3791\u001b[0;31m             \u001b[0;32mreturn\u001b[0m \u001b[0mself\u001b[0m\u001b[0;34m.\u001b[0m\u001b[0m_engine\u001b[0m\u001b[0;34m.\u001b[0m\u001b[0mget_loc\u001b[0m\u001b[0;34m(\u001b[0m\u001b[0mcasted_key\u001b[0m\u001b[0;34m)\u001b[0m\u001b[0;34m\u001b[0m\u001b[0;34m\u001b[0m\u001b[0m\n\u001b[0m\u001b[1;32m   3792\u001b[0m         \u001b[0;32mexcept\u001b[0m \u001b[0mKeyError\u001b[0m \u001b[0;32mas\u001b[0m \u001b[0merr\u001b[0m\u001b[0;34m:\u001b[0m\u001b[0;34m\u001b[0m\u001b[0;34m\u001b[0m\u001b[0m\n",
            "\u001b[0;32mindex.pyx\u001b[0m in \u001b[0;36mpandas._libs.index.IndexEngine.get_loc\u001b[0;34m()\u001b[0m\n",
            "\u001b[0;32mindex.pyx\u001b[0m in \u001b[0;36mpandas._libs.index.IndexEngine.get_loc\u001b[0;34m()\u001b[0m\n",
            "\u001b[0;32mpandas/_libs/hashtable_class_helper.pxi\u001b[0m in \u001b[0;36mpandas._libs.hashtable.PyObjectHashTable.get_item\u001b[0;34m()\u001b[0m\n",
            "\u001b[0;32mpandas/_libs/hashtable_class_helper.pxi\u001b[0m in \u001b[0;36mpandas._libs.hashtable.PyObjectHashTable.get_item\u001b[0;34m()\u001b[0m\n",
            "\u001b[0;31mKeyError\u001b[0m: 'Event'",
            "\nThe above exception was the direct cause of the following exception:\n",
            "\u001b[0;31mKeyError\u001b[0m                                  Traceback (most recent call last)",
            "\u001b[0;32m<ipython-input-56-055a7b8c503a>\u001b[0m in \u001b[0;36m<cell line: 14>\u001b[0;34m()\u001b[0m\n\u001b[1;32m     12\u001b[0m \u001b[0;34m\u001b[0m\u001b[0m\n\u001b[1;32m     13\u001b[0m \u001b[0;31m# Define event dates from the data\u001b[0m\u001b[0;34m\u001b[0m\u001b[0;34m\u001b[0m\u001b[0m\n\u001b[0;32m---> 14\u001b[0;31m \u001b[0mevent_days\u001b[0m \u001b[0;34m=\u001b[0m \u001b[0mdf\u001b[0m\u001b[0;34m[\u001b[0m\u001b[0mdf\u001b[0m\u001b[0;34m[\u001b[0m\u001b[0;34m'Event'\u001b[0m\u001b[0;34m]\u001b[0m \u001b[0;34m!=\u001b[0m \u001b[0;34m'BAU'\u001b[0m\u001b[0;34m]\u001b[0m\u001b[0;34m[\u001b[0m\u001b[0;34m'Date'\u001b[0m\u001b[0;34m]\u001b[0m\u001b[0;34m.\u001b[0m\u001b[0munique\u001b[0m\u001b[0;34m(\u001b[0m\u001b[0;34m)\u001b[0m\u001b[0;34m\u001b[0m\u001b[0;34m\u001b[0m\u001b[0m\n\u001b[0m\u001b[1;32m     15\u001b[0m \u001b[0mfsms_days\u001b[0m \u001b[0;34m=\u001b[0m \u001b[0mdf\u001b[0m\u001b[0;34m[\u001b[0m\u001b[0mdf\u001b[0m\u001b[0;34m[\u001b[0m\u001b[0;34m'Event'\u001b[0m\u001b[0;34m]\u001b[0m \u001b[0;34m==\u001b[0m \u001b[0;34m'FSMS'\u001b[0m\u001b[0;34m]\u001b[0m\u001b[0;34m[\u001b[0m\u001b[0;34m'Date'\u001b[0m\u001b[0;34m]\u001b[0m\u001b[0;34m.\u001b[0m\u001b[0munique\u001b[0m\u001b[0;34m(\u001b[0m\u001b[0;34m)\u001b[0m\u001b[0;34m\u001b[0m\u001b[0;34m\u001b[0m\u001b[0m\n\u001b[1;32m     16\u001b[0m \u001b[0mmbs_days\u001b[0m \u001b[0;34m=\u001b[0m \u001b[0mdf\u001b[0m\u001b[0;34m[\u001b[0m\u001b[0mdf\u001b[0m\u001b[0;34m[\u001b[0m\u001b[0;34m'Event'\u001b[0m\u001b[0;34m]\u001b[0m \u001b[0;34m==\u001b[0m \u001b[0;34m'MBS'\u001b[0m\u001b[0;34m]\u001b[0m\u001b[0;34m[\u001b[0m\u001b[0;34m'Date'\u001b[0m\u001b[0;34m]\u001b[0m\u001b[0;34m.\u001b[0m\u001b[0munique\u001b[0m\u001b[0;34m(\u001b[0m\u001b[0;34m)\u001b[0m\u001b[0;34m\u001b[0m\u001b[0;34m\u001b[0m\u001b[0m\n",
            "\u001b[0;32m/usr/local/lib/python3.10/dist-packages/pandas/core/frame.py\u001b[0m in \u001b[0;36m__getitem__\u001b[0;34m(self, key)\u001b[0m\n\u001b[1;32m   3891\u001b[0m             \u001b[0;32mif\u001b[0m \u001b[0mself\u001b[0m\u001b[0;34m.\u001b[0m\u001b[0mcolumns\u001b[0m\u001b[0;34m.\u001b[0m\u001b[0mnlevels\u001b[0m \u001b[0;34m>\u001b[0m \u001b[0;36m1\u001b[0m\u001b[0;34m:\u001b[0m\u001b[0;34m\u001b[0m\u001b[0;34m\u001b[0m\u001b[0m\n\u001b[1;32m   3892\u001b[0m                 \u001b[0;32mreturn\u001b[0m \u001b[0mself\u001b[0m\u001b[0;34m.\u001b[0m\u001b[0m_getitem_multilevel\u001b[0m\u001b[0;34m(\u001b[0m\u001b[0mkey\u001b[0m\u001b[0;34m)\u001b[0m\u001b[0;34m\u001b[0m\u001b[0;34m\u001b[0m\u001b[0m\n\u001b[0;32m-> 3893\u001b[0;31m             \u001b[0mindexer\u001b[0m \u001b[0;34m=\u001b[0m \u001b[0mself\u001b[0m\u001b[0;34m.\u001b[0m\u001b[0mcolumns\u001b[0m\u001b[0;34m.\u001b[0m\u001b[0mget_loc\u001b[0m\u001b[0;34m(\u001b[0m\u001b[0mkey\u001b[0m\u001b[0;34m)\u001b[0m\u001b[0;34m\u001b[0m\u001b[0;34m\u001b[0m\u001b[0m\n\u001b[0m\u001b[1;32m   3894\u001b[0m             \u001b[0;32mif\u001b[0m \u001b[0mis_integer\u001b[0m\u001b[0;34m(\u001b[0m\u001b[0mindexer\u001b[0m\u001b[0;34m)\u001b[0m\u001b[0;34m:\u001b[0m\u001b[0;34m\u001b[0m\u001b[0;34m\u001b[0m\u001b[0m\n\u001b[1;32m   3895\u001b[0m                 \u001b[0mindexer\u001b[0m \u001b[0;34m=\u001b[0m \u001b[0;34m[\u001b[0m\u001b[0mindexer\u001b[0m\u001b[0;34m]\u001b[0m\u001b[0;34m\u001b[0m\u001b[0;34m\u001b[0m\u001b[0m\n",
            "\u001b[0;32m/usr/local/lib/python3.10/dist-packages/pandas/core/indexes/base.py\u001b[0m in \u001b[0;36mget_loc\u001b[0;34m(self, key)\u001b[0m\n\u001b[1;32m   3796\u001b[0m             ):\n\u001b[1;32m   3797\u001b[0m                 \u001b[0;32mraise\u001b[0m \u001b[0mInvalidIndexError\u001b[0m\u001b[0;34m(\u001b[0m\u001b[0mkey\u001b[0m\u001b[0;34m)\u001b[0m\u001b[0;34m\u001b[0m\u001b[0;34m\u001b[0m\u001b[0m\n\u001b[0;32m-> 3798\u001b[0;31m             \u001b[0;32mraise\u001b[0m \u001b[0mKeyError\u001b[0m\u001b[0;34m(\u001b[0m\u001b[0mkey\u001b[0m\u001b[0;34m)\u001b[0m \u001b[0;32mfrom\u001b[0m \u001b[0merr\u001b[0m\u001b[0;34m\u001b[0m\u001b[0;34m\u001b[0m\u001b[0m\n\u001b[0m\u001b[1;32m   3799\u001b[0m         \u001b[0;32mexcept\u001b[0m \u001b[0mTypeError\u001b[0m\u001b[0;34m:\u001b[0m\u001b[0;34m\u001b[0m\u001b[0;34m\u001b[0m\u001b[0m\n\u001b[1;32m   3800\u001b[0m             \u001b[0;31m# If we have a listlike key, _check_indexing_error will raise\u001b[0m\u001b[0;34m\u001b[0m\u001b[0;34m\u001b[0m\u001b[0m\n",
            "\u001b[0;31mKeyError\u001b[0m: 'Event'"
          ]
        }
      ]
    },
    {
      "cell_type": "code",
      "source": [
        "import matplotlib.pyplot as plt\n",
        "\n",
        "# Ensure 'Date' is in datetime format\n",
        "inventory_projection['Date'] = pd.to_datetime(inventory_projection['Date'])\n",
        "\n",
        "# Group by Date to get the total forecasted sales volume per day\n",
        "daily_forecast = inventory_projection.groupby('Date')['Forecasted Sales Volume'].sum().reset_index()\n",
        "\n",
        "# Plot Demand Forecast Chart\n",
        "plt.figure(figsize=(12, 6))\n",
        "plt.plot(daily_forecast['Date'], daily_forecast['Forecasted Sales Volume'], label='Forecasted Sales Volume', marker='o')\n",
        "plt.fill_between(daily_forecast['Date'],\n",
        "                 daily_forecast['Forecasted Sales Volume'] - 5,\n",
        "                 daily_forecast['Forecasted Sales Volume'] + 5, alpha=0.2, color='gray', label='Confidence Interval')\n",
        "\n",
        "# Add vertical lines for event markers\n",
        "for event_date in inventory_projection[inventory_projection['Event Indicator'] == 'FSMS']['Date'].unique():\n",
        "    plt.axvline(x=event_date, color='red', linestyle='--', label='FSMS Event' if event_date == fsms_days[0] else \"\")\n",
        "for event_date in inventory_projection[inventory_projection['Event Indicator'] == 'MBS']['Date'].unique():\n",
        "    plt.axvline(x=event_date, color='blue', linestyle='--', label='MBS Event' if event_date == mbs_days[0] else \"\")\n",
        "for event_date in inventory_projection[inventory_projection['Event Indicator'] == 'MDS']['Date'].unique():\n",
        "    plt.axvline(x=event_date, color='green', linestyle='--', label='MDS Event' if event_date == mds_days[0] else \"\")\n",
        "\n",
        "plt.xlabel('Date')\n",
        "plt.ylabel('Forecasted Sales Volume')\n",
        "plt.title('Demand Forecast Chart with Event Indicators')\n",
        "plt.legend()\n",
        "plt.grid(True)\n",
        "plt.show()\n"
      ],
      "metadata": {
        "id": "oCOGt1sRb7c1"
      },
      "execution_count": null,
      "outputs": []
    },
    {
      "cell_type": "code",
      "source": [
        "# Plot Inventory Projection Chart\n",
        "plt.figure(figsize=(12, 6))\n",
        "\n",
        "# Plot Total Inventory Needed\n",
        "plt.plot(inventory_projection['Date'], inventory_projection['Total Inventory Needed'], label='Total Inventory Needed', marker='o', color='orange')\n",
        "\n",
        "# Plot Safety Stock\n",
        "plt.plot(inventory_projection['Date'], inventory_projection['Safety Stock'], label='Safety Stock', linestyle='--', color='red')\n",
        "\n",
        "# Highlight Event Days\n",
        "for event_date in fsms_days:\n",
        "    plt.axvline(x=event_date, color='red', linestyle='--', label='FSMS Event' if event_date == fsms_days[0] else \"\")\n",
        "for event_date in mbs_days:\n",
        "    plt.axvline(x=event_date, color='blue', linestyle='--', label='MBS Event' if event_date == mbs_days[0] else \"\")\n",
        "for event_date in mds_days:\n",
        "    plt.axvline(x=event_date, color='green', linestyle='--', label='MDS Event' if event_date == mds_days[0] else \"\")\n",
        "\n",
        "plt.xlabel('Date')\n",
        "plt.ylabel('Inventory Levels')\n",
        "plt.title('Inventory Projection Chart')\n",
        "plt.legend()\n",
        "plt.grid(True)\n",
        "plt.show()\n"
      ],
      "metadata": {
        "id": "mmJOB4sOcFUR"
      },
      "execution_count": null,
      "outputs": []
    },
    {
      "cell_type": "code",
      "source": [
        "import matplotlib.pyplot as plt\n",
        "import pandas as pd\n",
        "\n",
        "# Assuming inventory_projection DataFrame has been provided with correct columns\n",
        "# Ensure 'Date' is in datetime format\n",
        "inventory_projection['Date'] = pd.to_datetime(inventory_projection['Date'])\n",
        "\n",
        "# Group by 'Date' to get total forecasted sales volume per day\n",
        "daily_forecast = inventory_projection.groupby('Date')['Forecasted Sales Volume'].sum().reset_index()\n",
        "daily_inventory = inventory_projection.groupby('Date')['Total Inventory Needed'].sum().reset_index()\n",
        "daily_safety_stock = inventory_projection.groupby('Date')['Safety Stock'].mean().reset_index()\n",
        "\n",
        "# Prepare the figure for plotting\n",
        "plt.figure(figsize=(12, 6))\n",
        "\n",
        "# Plot Total Inventory Needed dynamically\n",
        "plt.plot(daily_inventory['Date'], daily_inventory['Total Inventory Needed'], label='Total Inventory Needed', marker='o', color='orange')\n",
        "\n",
        "# Dynamic Safety Stock plot based on forecast\n",
        "plt.plot(daily_safety_stock['Date'], daily_safety_stock['Safety Stock'], label='Safety Stock', linestyle='--', color='red')\n",
        "\n",
        "# Consolidate Event Markers by using shading\n",
        "event_colors = {'FSMS': 'red', 'MBS': 'blue', 'MDS': 'green'}\n",
        "for event_type, color in event_colors.items():\n",
        "    event_dates = inventory_projection[inventory_projection['Event Indicator'] == event_type]['Date'].unique()\n",
        "    for event_date in event_dates:\n",
        "        plt.axvspan(event_date, event_date, color=color, alpha=0.1, label=f'{event_type} Event' if event_date == event_dates[0] else \"\")\n",
        "\n",
        "plt.xlabel('Date')\n",
        "plt.ylabel('Inventory Levels')\n",
        "plt.title('Refined Inventory Projection Chart with Event Shading')\n",
        "plt.legend()\n",
        "plt.grid(True)\n",
        "plt.show()\n"
      ],
      "metadata": {
        "id": "EmnNj7DSc5V9"
      },
      "execution_count": null,
      "outputs": []
    },
    {
      "cell_type": "code",
      "source": [
        "from sklearn.model_selection import TimeSeriesSplit, RandomizedSearchCV\n",
        "from xgboost import XGBRegressor\n",
        "\n",
        "# Convert categorical features to category dtype for XGBoost\n",
        "categorical_features = ['DayOfWeek', 'Month', 'Season', 'CustomerGender', 'CustomerLocation']\n",
        "for col in categorical_features:\n",
        "    train_val_data[col] = train_val_data[col].astype('category')\n",
        "    test_data[col] = test_data[col].astype('category')\n",
        "\n",
        "# Define the TimeSeriesSplit object\n",
        "tscv = TimeSeriesSplit(n_splits=5)\n",
        "\n",
        "# Initialize the XGBRegressor with enable_categorical=True\n",
        "xgb_model = XGBRegressor(objective='reg:squarederror', random_state=42, n_jobs=-1, enable_categorical=True)\n",
        "\n",
        "# Define the parameter grid for hyperparameter tuning\n",
        "param_grid = {\n",
        "    'n_estimators': [100, 200, 500],\n",
        "    'max_depth': [3, 5, 7],\n",
        "    'learning_rate': [0.01, 0.05, 0.1],\n",
        "    'subsample': [0.8, 1],\n",
        "    'colsample_bytree': [0.8, 1],\n",
        "    'reg_alpha': [0, 0.1, 0.5],\n",
        "    'reg_lambda': [1, 1.5, 2],\n",
        "}\n",
        "\n",
        "# Set up RandomizedSearchCV\n",
        "random_search = RandomizedSearchCV(\n",
        "    estimator=xgb_model,\n",
        "    param_distributions=param_grid,\n",
        "    n_iter=50,  # Number of parameter settings that are sampled\n",
        "    scoring='neg_mean_absolute_error',\n",
        "    cv=tscv,\n",
        "    verbose=1,\n",
        "    random_state=42,\n",
        "    n_jobs=-1\n",
        ")\n",
        "\n",
        "# Fit the RandomizedSearchCV\n",
        "random_search.fit(X_train_val, y_train_val)\n",
        "\n",
        "# Use the best estimator\n",
        "best_model = random_search.best_estimator_\n"
      ],
      "metadata": {
        "colab": {
          "base_uri": "https://localhost:8080/"
        },
        "id": "UqPTMzAlyaaG",
        "outputId": "cf8f331f-5d44-411e-ae58-59ee808a1004"
      },
      "execution_count": null,
      "outputs": [
        {
          "output_type": "stream",
          "name": "stderr",
          "text": [
            "<ipython-input-58-6a1a7b6f5735>:8: SettingWithCopyWarning: \n",
            "A value is trying to be set on a copy of a slice from a DataFrame.\n",
            "Try using .loc[row_indexer,col_indexer] = value instead\n",
            "\n",
            "See the caveats in the documentation: https://pandas.pydata.org/pandas-docs/stable/user_guide/indexing.html#returning-a-view-versus-a-copy\n",
            "  test_data[col] = test_data[col].astype('category')\n"
          ]
        },
        {
          "output_type": "stream",
          "name": "stdout",
          "text": [
            "Fitting 5 folds for each of 50 candidates, totalling 250 fits\n"
          ]
        }
      ]
    },
    {
      "cell_type": "code",
      "source": [
        "import pickle\n",
        "\n",
        "# Save the best model to a pickle file\n",
        "with open('xgb_model.pkl', 'wb') as file:\n",
        "    pickle.dump(best_model, file)\n"
      ],
      "metadata": {
        "id": "mz2GrVNgzQTS"
      },
      "execution_count": null,
      "outputs": []
    },
    {
      "cell_type": "code",
      "source": [
        "# Train the model using RandomizedSearchCV\n",
        "random_search.fit(X_train_val, y_train_val)\n",
        "\n",
        "# Select the best model\n",
        "best_model = random_search.best_estimator_\n",
        "\n",
        "# Save the best model to a pickle file\n",
        "import pickle\n",
        "\n",
        "with open('xgb_model.pkl', 'wb') as file:\n",
        "    pickle.dump(best_model, file)\n",
        "\n",
        "print(\"Model saved to xgb_model.pkl\")\n"
      ],
      "metadata": {
        "colab": {
          "base_uri": "https://localhost:8080/"
        },
        "id": "ywmwBNuHzW7_",
        "outputId": "2abf145a-0f5d-47c5-eed7-32f7d04a76df"
      },
      "execution_count": null,
      "outputs": [
        {
          "output_type": "stream",
          "name": "stdout",
          "text": [
            "Fitting 5 folds for each of 50 candidates, totalling 250 fits\n",
            "Model saved to xgb_model.pkl\n"
          ]
        }
      ]
    },
    {
      "cell_type": "code",
      "source": [
        "from google.colab import files\n",
        "\n",
        "# Download the model pickle file\n",
        "files.download('xgb_model.pkl')\n"
      ],
      "metadata": {
        "id": "oe70TLWVzsrC",
        "outputId": "8e01ea7c-ebc8-420d-bf3d-b5b77faf1886",
        "colab": {
          "base_uri": "https://localhost:8080/",
          "height": 34
        }
      },
      "execution_count": null,
      "outputs": [
        {
          "output_type": "display_data",
          "data": {
            "text/plain": [
              "<IPython.core.display.Javascript object>"
            ],
            "application/javascript": [
              "\n",
              "    async function download(id, filename, size) {\n",
              "      if (!google.colab.kernel.accessAllowed) {\n",
              "        return;\n",
              "      }\n",
              "      const div = document.createElement('div');\n",
              "      const label = document.createElement('label');\n",
              "      label.textContent = `Downloading \"${filename}\": `;\n",
              "      div.appendChild(label);\n",
              "      const progress = document.createElement('progress');\n",
              "      progress.max = size;\n",
              "      div.appendChild(progress);\n",
              "      document.body.appendChild(div);\n",
              "\n",
              "      const buffers = [];\n",
              "      let downloaded = 0;\n",
              "\n",
              "      const channel = await google.colab.kernel.comms.open(id);\n",
              "      // Send a message to notify the kernel that we're ready.\n",
              "      channel.send({})\n",
              "\n",
              "      for await (const message of channel.messages) {\n",
              "        // Send a message to notify the kernel that we're ready.\n",
              "        channel.send({})\n",
              "        if (message.buffers) {\n",
              "          for (const buffer of message.buffers) {\n",
              "            buffers.push(buffer);\n",
              "            downloaded += buffer.byteLength;\n",
              "            progress.value = downloaded;\n",
              "          }\n",
              "        }\n",
              "      }\n",
              "      const blob = new Blob(buffers, {type: 'application/binary'});\n",
              "      const a = document.createElement('a');\n",
              "      a.href = window.URL.createObjectURL(blob);\n",
              "      a.download = filename;\n",
              "      div.appendChild(a);\n",
              "      a.click();\n",
              "      div.remove();\n",
              "    }\n",
              "  "
            ]
          },
          "metadata": {}
        },
        {
          "output_type": "display_data",
          "data": {
            "text/plain": [
              "<IPython.core.display.Javascript object>"
            ],
            "application/javascript": [
              "download(\"download_efc7cc29-08db-4e45-b279-04cda1d65f0e\", \"xgb_model.pkl\", 403241)"
            ]
          },
          "metadata": {}
        }
      ]
    }
  ]
}